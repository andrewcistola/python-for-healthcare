{
 "cells": [
  {
   "cell_type": "markdown",
   "metadata": {},
   "source": [
    "![](_fig/labeled.jpg)"
   ]
  },
  {
   "cell_type": "markdown",
   "metadata": {},
   "source": [
    "# PyStudio 3: Using Machine Learning"
   ]
  },
  {
   "cell_type": "markdown",
   "metadata": {},
   "source": [
    "## Finding Value: Predicting Performance on Value Based Payments from CMS Hospital Compare Data"
   ]
  },
  {
   "cell_type": "markdown",
   "metadata": {},
   "source": [
    "### Setup Workspace"
   ]
  },
  {
   "cell_type": "code",
   "execution_count": 2,
   "metadata": {},
   "outputs": [],
   "source": [
    "import os\n",
    "import pandas as pd\n",
    "import numpy as np"
   ]
  },
  {
   "cell_type": "code",
   "execution_count": 3,
   "metadata": {},
   "outputs": [],
   "source": [
    "from sklearn.preprocessing import StandardScaler\n",
    "from sklearn.impute import SimpleImputer\n",
    "from sklearn.ensemble import RandomForestRegressor"
   ]
  },
  {
   "cell_type": "code",
   "execution_count": 4,
   "metadata": {},
   "outputs": [],
   "source": [
    "os.chdir(\"/home/drewc/allocativ/py4hc\")"
   ]
  },
  {
   "cell_type": "code",
   "execution_count": 5,
   "metadata": {},
   "outputs": [],
   "source": [
    "df_cms = pd.read_csv(\"_data/cms.csv\")"
   ]
  },
  {
   "cell_type": "code",
   "execution_count": 6,
   "metadata": {
    "scrolled": true
   },
   "outputs": [
    {
     "name": "stdout",
     "output_type": "stream",
     "text": [
      "<class 'pandas.core.frame.DataFrame'>\n",
      "RangeIndex: 2274 entries, 0 to 2273\n",
      "Columns: 178 entries, Facility ID to Track Electronic Labs\n",
      "dtypes: float64(152), int64(25), object(1)\n",
      "memory usage: 3.1+ MB\n"
     ]
    },
    {
     "data": {
      "text/html": [
       "<div>\n",
       "<style scoped>\n",
       "    .dataframe tbody tr th:only-of-type {\n",
       "        vertical-align: middle;\n",
       "    }\n",
       "\n",
       "    .dataframe tbody tr th {\n",
       "        vertical-align: top;\n",
       "    }\n",
       "\n",
       "    .dataframe thead th {\n",
       "        text-align: right;\n",
       "    }\n",
       "</style>\n",
       "<table border=\"1\" class=\"dataframe\">\n",
       "  <thead>\n",
       "    <tr style=\"text-align: right;\">\n",
       "      <th></th>\n",
       "      <th>Facility ID</th>\n",
       "      <th>FIPS</th>\n",
       "      <th>2018 VBP Adjustment Factor</th>\n",
       "      <th>2019 VBP Adjustment Factor</th>\n",
       "      <th>2020 VBP Adjustment Factor</th>\n",
       "      <th>READM-30-AMI-HRRP</th>\n",
       "      <th>READM-30-CABG-HRRP</th>\n",
       "      <th>READM-30-COPD-HRRP</th>\n",
       "      <th>READM-30-HF-HRRP</th>\n",
       "      <th>READM-30-HIP-KNEE-HRRP</th>\n",
       "      <th>...</th>\n",
       "      <th>Efficient use of medical imaging national comparison Above Average</th>\n",
       "      <th>Mortality national comparison Below Average</th>\n",
       "      <th>Safety of care national comparison Below Average</th>\n",
       "      <th>Readmission national comparison Below Average</th>\n",
       "      <th>Patient experience national comparison Below Average</th>\n",
       "      <th>Effectiveness of care national comparison Below Average</th>\n",
       "      <th>Timeliness of care national comparison Below Average</th>\n",
       "      <th>Efficient use of medical imaging national comparison Below Average</th>\n",
       "      <th>Receive Electronic Labs</th>\n",
       "      <th>Track Electronic Labs</th>\n",
       "    </tr>\n",
       "  </thead>\n",
       "  <tbody>\n",
       "    <tr>\n",
       "      <th>0</th>\n",
       "      <td>100001</td>\n",
       "      <td>FIPS12031</td>\n",
       "      <td>0.997517</td>\n",
       "      <td>1.002304</td>\n",
       "      <td>0.997413</td>\n",
       "      <td>1.0685</td>\n",
       "      <td>0.9213</td>\n",
       "      <td>1.0591</td>\n",
       "      <td>1.0757</td>\n",
       "      <td>1.1851</td>\n",
       "      <td>...</td>\n",
       "      <td>0</td>\n",
       "      <td>0</td>\n",
       "      <td>0</td>\n",
       "      <td>1</td>\n",
       "      <td>0</td>\n",
       "      <td>1</td>\n",
       "      <td>1</td>\n",
       "      <td>1</td>\n",
       "      <td>1</td>\n",
       "      <td>1</td>\n",
       "    </tr>\n",
       "    <tr>\n",
       "      <th>1</th>\n",
       "      <td>100002</td>\n",
       "      <td>FIPS12099</td>\n",
       "      <td>0.995494</td>\n",
       "      <td>0.996971</td>\n",
       "      <td>0.991655</td>\n",
       "      <td>0.9468</td>\n",
       "      <td>0.8829</td>\n",
       "      <td>1.0612</td>\n",
       "      <td>1.0224</td>\n",
       "      <td>0.7993</td>\n",
       "      <td>...</td>\n",
       "      <td>0</td>\n",
       "      <td>0</td>\n",
       "      <td>0</td>\n",
       "      <td>1</td>\n",
       "      <td>1</td>\n",
       "      <td>0</td>\n",
       "      <td>0</td>\n",
       "      <td>0</td>\n",
       "      <td>1</td>\n",
       "      <td>1</td>\n",
       "    </tr>\n",
       "    <tr>\n",
       "      <th>2</th>\n",
       "      <td>100006</td>\n",
       "      <td>FIPS12095</td>\n",
       "      <td>0.995280</td>\n",
       "      <td>0.996284</td>\n",
       "      <td>0.994979</td>\n",
       "      <td>0.9460</td>\n",
       "      <td>1.0253</td>\n",
       "      <td>1.0125</td>\n",
       "      <td>1.0152</td>\n",
       "      <td>1.2449</td>\n",
       "      <td>...</td>\n",
       "      <td>1</td>\n",
       "      <td>0</td>\n",
       "      <td>0</td>\n",
       "      <td>1</td>\n",
       "      <td>0</td>\n",
       "      <td>0</td>\n",
       "      <td>0</td>\n",
       "      <td>0</td>\n",
       "      <td>1</td>\n",
       "      <td>1</td>\n",
       "    </tr>\n",
       "    <tr>\n",
       "      <th>3</th>\n",
       "      <td>100007</td>\n",
       "      <td>FIPS12095</td>\n",
       "      <td>1.005295</td>\n",
       "      <td>1.007495</td>\n",
       "      <td>1.007056</td>\n",
       "      <td>1.0062</td>\n",
       "      <td>1.3440</td>\n",
       "      <td>0.9761</td>\n",
       "      <td>1.0807</td>\n",
       "      <td>1.1310</td>\n",
       "      <td>...</td>\n",
       "      <td>1</td>\n",
       "      <td>0</td>\n",
       "      <td>1</td>\n",
       "      <td>1</td>\n",
       "      <td>0</td>\n",
       "      <td>0</td>\n",
       "      <td>1</td>\n",
       "      <td>0</td>\n",
       "      <td>1</td>\n",
       "      <td>1</td>\n",
       "    </tr>\n",
       "    <tr>\n",
       "      <th>4</th>\n",
       "      <td>100008</td>\n",
       "      <td>FIPS12086</td>\n",
       "      <td>0.995473</td>\n",
       "      <td>0.993890</td>\n",
       "      <td>0.996734</td>\n",
       "      <td>0.9415</td>\n",
       "      <td>0.9824</td>\n",
       "      <td>1.0537</td>\n",
       "      <td>0.9574</td>\n",
       "      <td>0.8431</td>\n",
       "      <td>...</td>\n",
       "      <td>1</td>\n",
       "      <td>0</td>\n",
       "      <td>1</td>\n",
       "      <td>1</td>\n",
       "      <td>0</td>\n",
       "      <td>0</td>\n",
       "      <td>1</td>\n",
       "      <td>0</td>\n",
       "      <td>1</td>\n",
       "      <td>1</td>\n",
       "    </tr>\n",
       "  </tbody>\n",
       "</table>\n",
       "<p>5 rows × 178 columns</p>\n",
       "</div>"
      ],
      "text/plain": [
       "   Facility ID       FIPS  2018 VBP Adjustment Factor  \\\n",
       "0       100001  FIPS12031                    0.997517   \n",
       "1       100002  FIPS12099                    0.995494   \n",
       "2       100006  FIPS12095                    0.995280   \n",
       "3       100007  FIPS12095                    1.005295   \n",
       "4       100008  FIPS12086                    0.995473   \n",
       "\n",
       "   2019 VBP Adjustment Factor  2020 VBP Adjustment Factor  READM-30-AMI-HRRP  \\\n",
       "0                    1.002304                    0.997413             1.0685   \n",
       "1                    0.996971                    0.991655             0.9468   \n",
       "2                    0.996284                    0.994979             0.9460   \n",
       "3                    1.007495                    1.007056             1.0062   \n",
       "4                    0.993890                    0.996734             0.9415   \n",
       "\n",
       "   READM-30-CABG-HRRP  READM-30-COPD-HRRP  READM-30-HF-HRRP  \\\n",
       "0              0.9213              1.0591            1.0757   \n",
       "1              0.8829              1.0612            1.0224   \n",
       "2              1.0253              1.0125            1.0152   \n",
       "3              1.3440              0.9761            1.0807   \n",
       "4              0.9824              1.0537            0.9574   \n",
       "\n",
       "   READM-30-HIP-KNEE-HRRP  ...  \\\n",
       "0                  1.1851  ...   \n",
       "1                  0.7993  ...   \n",
       "2                  1.2449  ...   \n",
       "3                  1.1310  ...   \n",
       "4                  0.8431  ...   \n",
       "\n",
       "   Efficient use of medical imaging national comparison Above Average  \\\n",
       "0                                                  0                    \n",
       "1                                                  0                    \n",
       "2                                                  1                    \n",
       "3                                                  1                    \n",
       "4                                                  1                    \n",
       "\n",
       "   Mortality national comparison Below Average  \\\n",
       "0                                            0   \n",
       "1                                            0   \n",
       "2                                            0   \n",
       "3                                            0   \n",
       "4                                            0   \n",
       "\n",
       "   Safety of care national comparison Below Average  \\\n",
       "0                                                 0   \n",
       "1                                                 0   \n",
       "2                                                 0   \n",
       "3                                                 1   \n",
       "4                                                 1   \n",
       "\n",
       "   Readmission national comparison Below Average  \\\n",
       "0                                              1   \n",
       "1                                              1   \n",
       "2                                              1   \n",
       "3                                              1   \n",
       "4                                              1   \n",
       "\n",
       "   Patient experience national comparison Below Average  \\\n",
       "0                                                  0      \n",
       "1                                                  1      \n",
       "2                                                  0      \n",
       "3                                                  0      \n",
       "4                                                  0      \n",
       "\n",
       "   Effectiveness of care national comparison Below Average  \\\n",
       "0                                                  1         \n",
       "1                                                  0         \n",
       "2                                                  0         \n",
       "3                                                  0         \n",
       "4                                                  0         \n",
       "\n",
       "   Timeliness of care national comparison Below Average  \\\n",
       "0                                                  1      \n",
       "1                                                  0      \n",
       "2                                                  0      \n",
       "3                                                  1      \n",
       "4                                                  1      \n",
       "\n",
       "   Efficient use of medical imaging national comparison Below Average  \\\n",
       "0                                                  1                    \n",
       "1                                                  0                    \n",
       "2                                                  0                    \n",
       "3                                                  0                    \n",
       "4                                                  0                    \n",
       "\n",
       "   Receive Electronic Labs  Track Electronic Labs  \n",
       "0                        1                      1  \n",
       "1                        1                      1  \n",
       "2                        1                      1  \n",
       "3                        1                      1  \n",
       "4                        1                      1  \n",
       "\n",
       "[5 rows x 178 columns]"
      ]
     },
     "execution_count": 6,
     "metadata": {},
     "output_type": "execute_result"
    }
   ],
   "source": [
    "df_cms.info()\n",
    "df_cms.head()"
   ]
  },
  {
   "cell_type": "markdown",
   "metadata": {},
   "source": [
    "### Process Data"
   ]
  },
  {
   "cell_type": "code",
   "execution_count": 7,
   "metadata": {},
   "outputs": [],
   "source": [
    "df_cms = df_cms.dropna(subset = [\"2020 VBP Adjustment Factor\",\n",
    "                                \"2019 VBP Adjustment Factor\"])"
   ]
  },
  {
   "cell_type": "code",
   "execution_count": 8,
   "metadata": {},
   "outputs": [],
   "source": [
    "df_cms[\"train\"] = np.where(df_cms[\"2020 VBP Adjustment Factor\"] > 1, 1, 0) # Create categorical test target outcome based on conditions\n",
    "df_cms[\"test\"] = np.where(df_cms[\"2019 VBP Adjustment Factor\"] > 1, 1, 0) \n",
    "df_cms[\"quant\"] = df_cms[\"2020 VBP Adjustment Factor\"]"
   ]
  },
  {
   "cell_type": "code",
   "execution_count": 9,
   "metadata": {},
   "outputs": [],
   "source": [
    "df_cms = df_cms.drop(columns = [\"Facility ID\",\n",
    "                                \"FIPS\",\n",
    "                                \"2020 VBP Adjustment Factor\", \n",
    "                                \"2019 VBP Adjustment Factor\", \n",
    "                                \"2018 VBP Adjustment Factor\",\n",
    "                                \"Weighted Normalized Clinical Outcomes Domain Score\",\n",
    "                                \"Weighted Person and Community Engagement Domain Score\",\n",
    "                                \"Weighted Safety Domain Score\",\n",
    "                                \"Weighted Efficiency and Cost Reduction Domain Score\",\n",
    "                                \"Total Performance Score\"])"
   ]
  },
  {
   "cell_type": "code",
   "execution_count": 10,
   "metadata": {},
   "outputs": [],
   "source": [
    "df_cms = df_cms.dropna(axis = 1, thresh = 0.75*len(df_cms)) # Drop features less than 75% non-NA count for all columns\n",
    "df_cms = pd.DataFrame(SimpleImputer(strategy = \"median\").fit_transform(df_cms), columns = df_cms.columns) # Impute missing data"
   ]
  },
  {
   "cell_type": "code",
   "execution_count": 11,
   "metadata": {},
   "outputs": [],
   "source": [
    "df_cms = pd.DataFrame(StandardScaler().fit_transform(df_cms.values), columns = df_cms.columns)"
   ]
  },
  {
   "cell_type": "code",
   "execution_count": 12,
   "metadata": {},
   "outputs": [
    {
     "name": "stdout",
     "output_type": "stream",
     "text": [
      "<class 'pandas.core.frame.DataFrame'>\n",
      "RangeIndex: 2164 entries, 0 to 2163\n",
      "Columns: 150 entries, READM-30-COPD-HRRP to quant\n",
      "dtypes: float64(150)\n",
      "memory usage: 2.5 MB\n"
     ]
    },
    {
     "data": {
      "text/html": [
       "<div>\n",
       "<style scoped>\n",
       "    .dataframe tbody tr th:only-of-type {\n",
       "        vertical-align: middle;\n",
       "    }\n",
       "\n",
       "    .dataframe tbody tr th {\n",
       "        vertical-align: top;\n",
       "    }\n",
       "\n",
       "    .dataframe thead th {\n",
       "        text-align: right;\n",
       "    }\n",
       "</style>\n",
       "<table border=\"1\" class=\"dataframe\">\n",
       "  <thead>\n",
       "    <tr style=\"text-align: right;\">\n",
       "      <th></th>\n",
       "      <th>READM-30-COPD-HRRP</th>\n",
       "      <th>READM-30-HF-HRRP</th>\n",
       "      <th>READM-30-HIP-KNEE-HRRP</th>\n",
       "      <th>READM-30-PN-HRRP</th>\n",
       "      <th>TOTAL HAC SCORE</th>\n",
       "      <th>Heart failure (HF) 30-Day Readmission Rate</th>\n",
       "      <th>Hospital return days for heart failure patients</th>\n",
       "      <th>Hospital return days for pneumonia patients</th>\n",
       "      <th>Pneumonia (PN) 30-Day Readmission Rate</th>\n",
       "      <th>Rate of readmission hospital wide</th>\n",
       "      <th>...</th>\n",
       "      <th>Readmission national comparison Below Average</th>\n",
       "      <th>Patient experience national comparison Below Average</th>\n",
       "      <th>Effectiveness of care national comparison Below Average</th>\n",
       "      <th>Timeliness of care national comparison Below Average</th>\n",
       "      <th>Efficient use of medical imaging national comparison Below Average</th>\n",
       "      <th>Receive Electronic Labs</th>\n",
       "      <th>Track Electronic Labs</th>\n",
       "      <th>train</th>\n",
       "      <th>test</th>\n",
       "      <th>quant</th>\n",
       "    </tr>\n",
       "  </thead>\n",
       "  <tbody>\n",
       "    <tr>\n",
       "      <th>0</th>\n",
       "      <td>0.936296</td>\n",
       "      <td>0.948407</td>\n",
       "      <td>1.395617</td>\n",
       "      <td>0.187616</td>\n",
       "      <td>1.786217</td>\n",
       "      <td>0.338001</td>\n",
       "      <td>0.462404</td>\n",
       "      <td>0.913492</td>\n",
       "      <td>0.044357</td>\n",
       "      <td>0.416389</td>\n",
       "      <td>...</td>\n",
       "      <td>1.206772</td>\n",
       "      <td>-0.734247</td>\n",
       "      <td>3.413938</td>\n",
       "      <td>1.419129</td>\n",
       "      <td>2.736106</td>\n",
       "      <td>0.174574</td>\n",
       "      <td>0.208313</td>\n",
       "      <td>-1.151904</td>\n",
       "      <td>0.875517</td>\n",
       "      <td>-0.663961</td>\n",
       "    </tr>\n",
       "    <tr>\n",
       "      <th>1</th>\n",
       "      <td>0.970893</td>\n",
       "      <td>0.269272</td>\n",
       "      <td>-1.648187</td>\n",
       "      <td>0.039449</td>\n",
       "      <td>0.942383</td>\n",
       "      <td>-0.210529</td>\n",
       "      <td>0.114619</td>\n",
       "      <td>0.095265</td>\n",
       "      <td>0.205952</td>\n",
       "      <td>0.203522</td>\n",
       "      <td>...</td>\n",
       "      <td>1.206772</td>\n",
       "      <td>1.361940</td>\n",
       "      <td>-0.292917</td>\n",
       "      <td>-0.704657</td>\n",
       "      <td>-0.365483</td>\n",
       "      <td>0.174574</td>\n",
       "      <td>0.208313</td>\n",
       "      <td>-1.151904</td>\n",
       "      <td>-1.142182</td>\n",
       "      <td>-1.545344</td>\n",
       "    </tr>\n",
       "    <tr>\n",
       "      <th>2</th>\n",
       "      <td>0.168576</td>\n",
       "      <td>0.177531</td>\n",
       "      <td>1.867415</td>\n",
       "      <td>-1.516982</td>\n",
       "      <td>-0.453785</td>\n",
       "      <td>0.581792</td>\n",
       "      <td>0.992566</td>\n",
       "      <td>-0.144110</td>\n",
       "      <td>-1.894787</td>\n",
       "      <td>-0.222212</td>\n",
       "      <td>...</td>\n",
       "      <td>1.206772</td>\n",
       "      <td>-0.734247</td>\n",
       "      <td>-0.292917</td>\n",
       "      <td>-0.704657</td>\n",
       "      <td>-0.365483</td>\n",
       "      <td>0.174574</td>\n",
       "      <td>0.208313</td>\n",
       "      <td>-1.151904</td>\n",
       "      <td>-1.142182</td>\n",
       "      <td>-1.036578</td>\n",
       "    </tr>\n",
       "    <tr>\n",
       "      <th>3</th>\n",
       "      <td>-0.431102</td>\n",
       "      <td>1.012116</td>\n",
       "      <td>0.968790</td>\n",
       "      <td>1.980571</td>\n",
       "      <td>-0.778140</td>\n",
       "      <td>0.459897</td>\n",
       "      <td>0.822914</td>\n",
       "      <td>1.061469</td>\n",
       "      <td>1.660310</td>\n",
       "      <td>0.522823</td>\n",
       "      <td>...</td>\n",
       "      <td>1.206772</td>\n",
       "      <td>-0.734247</td>\n",
       "      <td>-0.292917</td>\n",
       "      <td>1.419129</td>\n",
       "      <td>-0.365483</td>\n",
       "      <td>0.174574</td>\n",
       "      <td>0.208313</td>\n",
       "      <td>0.868128</td>\n",
       "      <td>0.875517</td>\n",
       "      <td>0.812178</td>\n",
       "    </tr>\n",
       "    <tr>\n",
       "      <th>4</th>\n",
       "      <td>0.847333</td>\n",
       "      <td>-0.558942</td>\n",
       "      <td>-1.302623</td>\n",
       "      <td>0.271895</td>\n",
       "      <td>2.059098</td>\n",
       "      <td>-0.880955</td>\n",
       "      <td>1.026496</td>\n",
       "      <td>1.000538</td>\n",
       "      <td>0.448345</td>\n",
       "      <td>-0.328646</td>\n",
       "      <td>...</td>\n",
       "      <td>1.206772</td>\n",
       "      <td>-0.734247</td>\n",
       "      <td>-0.292917</td>\n",
       "      <td>1.419129</td>\n",
       "      <td>-0.365483</td>\n",
       "      <td>0.174574</td>\n",
       "      <td>0.208313</td>\n",
       "      <td>-1.151904</td>\n",
       "      <td>-1.142182</td>\n",
       "      <td>-0.767864</td>\n",
       "    </tr>\n",
       "  </tbody>\n",
       "</table>\n",
       "<p>5 rows × 150 columns</p>\n",
       "</div>"
      ],
      "text/plain": [
       "   READM-30-COPD-HRRP  READM-30-HF-HRRP  READM-30-HIP-KNEE-HRRP  \\\n",
       "0            0.936296          0.948407                1.395617   \n",
       "1            0.970893          0.269272               -1.648187   \n",
       "2            0.168576          0.177531                1.867415   \n",
       "3           -0.431102          1.012116                0.968790   \n",
       "4            0.847333         -0.558942               -1.302623   \n",
       "\n",
       "   READM-30-PN-HRRP  TOTAL HAC SCORE  \\\n",
       "0          0.187616         1.786217   \n",
       "1          0.039449         0.942383   \n",
       "2         -1.516982        -0.453785   \n",
       "3          1.980571        -0.778140   \n",
       "4          0.271895         2.059098   \n",
       "\n",
       "   Heart failure (HF) 30-Day Readmission Rate  \\\n",
       "0                                    0.338001   \n",
       "1                                   -0.210529   \n",
       "2                                    0.581792   \n",
       "3                                    0.459897   \n",
       "4                                   -0.880955   \n",
       "\n",
       "   Hospital return days for heart failure patients  \\\n",
       "0                                         0.462404   \n",
       "1                                         0.114619   \n",
       "2                                         0.992566   \n",
       "3                                         0.822914   \n",
       "4                                         1.026496   \n",
       "\n",
       "   Hospital return days for pneumonia patients  \\\n",
       "0                                     0.913492   \n",
       "1                                     0.095265   \n",
       "2                                    -0.144110   \n",
       "3                                     1.061469   \n",
       "4                                     1.000538   \n",
       "\n",
       "   Pneumonia (PN) 30-Day Readmission Rate  Rate of readmission hospital wide  \\\n",
       "0                                0.044357                           0.416389   \n",
       "1                                0.205952                           0.203522   \n",
       "2                               -1.894787                          -0.222212   \n",
       "3                                1.660310                           0.522823   \n",
       "4                                0.448345                          -0.328646   \n",
       "\n",
       "   ...  Readmission national comparison Below Average  \\\n",
       "0  ...                                       1.206772   \n",
       "1  ...                                       1.206772   \n",
       "2  ...                                       1.206772   \n",
       "3  ...                                       1.206772   \n",
       "4  ...                                       1.206772   \n",
       "\n",
       "   Patient experience national comparison Below Average  \\\n",
       "0                                          -0.734247      \n",
       "1                                           1.361940      \n",
       "2                                          -0.734247      \n",
       "3                                          -0.734247      \n",
       "4                                          -0.734247      \n",
       "\n",
       "   Effectiveness of care national comparison Below Average  \\\n",
       "0                                           3.413938         \n",
       "1                                          -0.292917         \n",
       "2                                          -0.292917         \n",
       "3                                          -0.292917         \n",
       "4                                          -0.292917         \n",
       "\n",
       "   Timeliness of care national comparison Below Average  \\\n",
       "0                                           1.419129      \n",
       "1                                          -0.704657      \n",
       "2                                          -0.704657      \n",
       "3                                           1.419129      \n",
       "4                                           1.419129      \n",
       "\n",
       "   Efficient use of medical imaging national comparison Below Average  \\\n",
       "0                                           2.736106                    \n",
       "1                                          -0.365483                    \n",
       "2                                          -0.365483                    \n",
       "3                                          -0.365483                    \n",
       "4                                          -0.365483                    \n",
       "\n",
       "   Receive Electronic Labs  Track Electronic Labs     train      test  \\\n",
       "0                 0.174574               0.208313 -1.151904  0.875517   \n",
       "1                 0.174574               0.208313 -1.151904 -1.142182   \n",
       "2                 0.174574               0.208313 -1.151904 -1.142182   \n",
       "3                 0.174574               0.208313  0.868128  0.875517   \n",
       "4                 0.174574               0.208313 -1.151904 -1.142182   \n",
       "\n",
       "      quant  \n",
       "0 -0.663961  \n",
       "1 -1.545344  \n",
       "2 -1.036578  \n",
       "3  0.812178  \n",
       "4 -0.767864  \n",
       "\n",
       "[5 rows x 150 columns]"
      ]
     },
     "execution_count": 12,
     "metadata": {},
     "output_type": "execute_result"
    }
   ],
   "source": [
    "df_cms.info()\n",
    "df_cms.head()"
   ]
  },
  {
   "cell_type": "markdown",
   "metadata": {},
   "source": [
    "### Create Model"
   ]
  },
  {
   "cell_type": "code",
   "execution_count": 13,
   "metadata": {},
   "outputs": [],
   "source": [
    "X = df_cms.drop(columns = [\"quant\", \"train\", \"test\"])\n",
    "Y_quant = df_cms[\"quant\"]"
   ]
  },
  {
   "cell_type": "code",
   "execution_count": 14,
   "metadata": {},
   "outputs": [
    {
     "data": {
      "text/plain": [
       "RandomForestRegressor(max_depth=10, n_estimators=1000)"
      ]
     },
     "execution_count": 14,
     "metadata": {},
     "output_type": "execute_result"
    }
   ],
   "source": [
    "forest = RandomForestRegressor(n_estimators = 1000, max_depth = 10) \n",
    "forest.fit(X, Y_quant)"
   ]
  },
  {
   "cell_type": "code",
   "execution_count": 15,
   "metadata": {},
   "outputs": [],
   "source": [
    "rf = forest.feature_importances_"
   ]
  },
  {
   "cell_type": "code",
   "execution_count": 16,
   "metadata": {},
   "outputs": [],
   "source": [
    "l_rf = list(zip(X, rf))\n",
    "df_rf = pd.DataFrame(l_rf, columns = [\"Features\", \"Gini\"])\n",
    "df_rf = df_rf.sort_values(by = [\"Gini\"], ascending = False) "
   ]
  },
  {
   "cell_type": "code",
   "execution_count": 17,
   "metadata": {},
   "outputs": [
    {
     "data": {
      "text/html": [
       "<div>\n",
       "<style scoped>\n",
       "    .dataframe tbody tr th:only-of-type {\n",
       "        vertical-align: middle;\n",
       "    }\n",
       "\n",
       "    .dataframe tbody tr th {\n",
       "        vertical-align: top;\n",
       "    }\n",
       "\n",
       "    .dataframe thead th {\n",
       "        text-align: right;\n",
       "    }\n",
       "</style>\n",
       "<table border=\"1\" class=\"dataframe\">\n",
       "  <thead>\n",
       "    <tr style=\"text-align: right;\">\n",
       "      <th></th>\n",
       "      <th>Features</th>\n",
       "      <th>Gini</th>\n",
       "    </tr>\n",
       "  </thead>\n",
       "  <tbody>\n",
       "    <tr>\n",
       "      <th>34</th>\n",
       "      <td>Medicare hospital spending per patient (Medica...</td>\n",
       "      <td>0.443277</td>\n",
       "    </tr>\n",
       "    <tr>\n",
       "      <th>127</th>\n",
       "      <td>Hospital overall rating</td>\n",
       "      <td>0.064438</td>\n",
       "    </tr>\n",
       "    <tr>\n",
       "      <th>4</th>\n",
       "      <td>TOTAL HAC SCORE</td>\n",
       "      <td>0.042933</td>\n",
       "    </tr>\n",
       "    <tr>\n",
       "      <th>134</th>\n",
       "      <td>Patient experience national comparison Above A...</td>\n",
       "      <td>0.027149</td>\n",
       "    </tr>\n",
       "    <tr>\n",
       "      <th>116</th>\n",
       "      <td>Death rate for heart failure patients</td>\n",
       "      <td>0.026241</td>\n",
       "    </tr>\n",
       "    <tr>\n",
       "      <th>117</th>\n",
       "      <td>Death rate for pneumonia patients</td>\n",
       "      <td>0.012877</td>\n",
       "    </tr>\n",
       "    <tr>\n",
       "      <th>51</th>\n",
       "      <td>Patients who gave their hospital a rating of 9...</td>\n",
       "      <td>0.010634</td>\n",
       "    </tr>\n",
       "    <tr>\n",
       "      <th>115</th>\n",
       "      <td>Death rate for heart attack patients</td>\n",
       "      <td>0.010173</td>\n",
       "    </tr>\n",
       "    <tr>\n",
       "      <th>49</th>\n",
       "      <td>Patients who gave their hospital a rating of 6...</td>\n",
       "      <td>0.010168</td>\n",
       "    </tr>\n",
       "    <tr>\n",
       "      <th>91</th>\n",
       "      <td>Patients who reported that their room and bath...</td>\n",
       "      <td>0.009601</td>\n",
       "    </tr>\n",
       "  </tbody>\n",
       "</table>\n",
       "</div>"
      ],
      "text/plain": [
       "                                              Features      Gini\n",
       "34   Medicare hospital spending per patient (Medica...  0.443277\n",
       "127                            Hospital overall rating  0.064438\n",
       "4                                      TOTAL HAC SCORE  0.042933\n",
       "134  Patient experience national comparison Above A...  0.027149\n",
       "116              Death rate for heart failure patients  0.026241\n",
       "117                  Death rate for pneumonia patients  0.012877\n",
       "51   Patients who gave their hospital a rating of 9...  0.010634\n",
       "115               Death rate for heart attack patients  0.010173\n",
       "49   Patients who gave their hospital a rating of 6...  0.010168\n",
       "91   Patients who reported that their room and bath...  0.009601"
      ]
     },
     "execution_count": 17,
     "metadata": {},
     "output_type": "execute_result"
    }
   ],
   "source": [
    "df_rf.head(10)"
   ]
  },
  {
   "cell_type": "markdown",
   "metadata": {},
   "source": [
    "### Display Results"
   ]
  },
  {
   "cell_type": "code",
   "execution_count": 38,
   "metadata": {
    "scrolled": false
   },
   "outputs": [
    {
     "data": {
      "text/plain": [
       "Text(0, 0.5, '2020 VBP Adjustment Factor')"
      ]
     },
     "execution_count": 38,
     "metadata": {},
     "output_type": "execute_result"
    },
    {
     "data": {
      "image/png": "[encoded data removed]",
      "text/plain": [
       "<Figure size 432x288 with 1 Axes>"
      ]
     },
     "metadata": {
      "needs_background": "light"
     },
     "output_type": "display_data"
    }
   ],
   "source": [
    "plt.scatter(X[\"Medicare hospital spending per patient (Medicare Spending per Beneficiary)\"], Y_quant, c = \"b\")\n",
    "plt.xlabel(\"MSPB\")\n",
    "plt.ylabel(\"2020 VBP Adjustment Factor\")"
   ]
  },
  {
   "cell_type": "code",
   "execution_count": 50,
   "metadata": {
    "scrolled": true
   },
   "outputs": [
    {
     "data": {
      "text/plain": [
       "Text(0, 0.5, '2020 VBP Adjustment Factor')"
      ]
     },
     "execution_count": 50,
     "metadata": {},
     "output_type": "execute_result"
    },
    {
     "data": {
      "image/png": "[encoded data removed]",
      "text/plain": [
       "<Figure size 432x288 with 1 Axes>"
      ]
     },
     "metadata": {
      "needs_background": "light"
     },
     "output_type": "display_data"
    }
   ],
   "source": [
    "plt.scatter(X[\"TOTAL HAC SCORE\"], Y_quant, c = \"b\")\n",
    "plt.xlabel(\"TOTAL HAC SCORE\")\n",
    "plt.ylabel(\"2020 VBP Adjustment Factor\")"
   ]
  },
  {
   "cell_type": "code",
   "execution_count": 48,
   "metadata": {
    "scrolled": false
   },
   "outputs": [
    {
     "data": {
      "text/plain": [
       "Text(0, 0.5, '2020 VBP Adjustment Factor')"
      ]
     },
     "execution_count": 48,
     "metadata": {},
     "output_type": "execute_result"
    },
    {
     "data": {
      "image/png": "[encoded data removed]",
      "text/plain": [
       "<Figure size 432x288 with 1 Axes>"
      ]
     },
     "metadata": {
      "needs_background": "light"
     },
     "output_type": "display_data"
    }
   ],
   "source": [
    "plt.scatter(X['Patients who reported that their room and bathroom were \"Always\" clean'], Y_quant, c = \"b\")\n",
    "plt.xlabel(\"Bathroom Clean\")\n",
    "plt.ylabel(\"2020 VBP Adjustment Factor\")"
   ]
  },
  {
   "cell_type": "code",
   "execution_count": 49,
   "metadata": {
    "scrolled": false
   },
   "outputs": [
    {
     "data": {
      "text/plain": [
       "Text(0, 0.5, '2020 VBP Adjustment Factor')"
      ]
     },
     "execution_count": 49,
     "metadata": {},
     "output_type": "execute_result"
    },
    {
     "data": {
      "image/png": "[encoded data removed]",
      "text/plain": [
       "<Figure size 432x288 with 1 Axes>"
      ]
     },
     "metadata": {
      "needs_background": "light"
     },
     "output_type": "display_data"
    }
   ],
   "source": [
    "plt.scatter(X[\"Patients who gave their hospital a rating of 9 or 10 on a scale from 0 (lowest) to 10 (highest)\"], Y_quant, c = \"b\")\n",
    "plt.xlabel(\"9 or 10 Rating\")\n",
    "plt.ylabel(\"2020 VBP Adjustment Factor\")"
   ]
  },
  {
   "cell_type": "markdown",
   "metadata": {},
   "source": [
    "## Assessment"
   ]
  },
  {
   "cell_type": "markdown",
   "metadata": {},
   "source": [
    "### Reading & Video Quiz\n",
    "After completing the articles and videos in the module, answer the following questions. Be sure to examine the questions and module materials carefully, the questions are taken directly from article and video content. \n",
    "1. \n",
    "2.\n",
    "3."
   ]
  },
  {
   "cell_type": "markdown",
   "metadata": {},
   "source": [
    "### Studio Team Reflections\n",
    "After reading the selected articles, watching the module videos, taking the quiz, and completing the studio session please answer ONE of the following questions.\n",
    "After your individual post, respond to each other team member sharing points of similarity or difference in your experience. Length or style is not important.\n",
    "1. What was something new that you learned in this module?\n",
    "2. What was something that you knew previously but heard differently in this module?\n",
    "3. What do you understand better after this module?\n",
    "4. What is more confusing after this module?"
   ]
  },
  {
   "cell_type": "code",
   "execution_count": null,
   "metadata": {},
   "outputs": [],
   "source": []
  }
 ],
 "metadata": {
  "kernelspec": {
   "display_name": "Python 3",
   "language": "python",
   "name": "python3"
  },
  "language_info": {
   "codemirror_mode": {
    "name": "ipython",
    "version": 3
   },
   "file_extension": ".py",
   "mimetype": "text/x-python",
   "name": "python",
   "nbconvert_exporter": "python",
   "pygments_lexer": "ipython3",
   "version": "3.6.10"
  }
 },
 "nbformat": 4,
 "nbformat_minor": 4
}
