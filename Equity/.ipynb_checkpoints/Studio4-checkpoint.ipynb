{
 "cells": [
  {
   "cell_type": "markdown",
   "metadata": {},
   "source": [
    "![](_fig/labeled.jpg)"
   ]
  },
  {
   "cell_type": "markdown",
   "metadata": {},
   "source": [
    "# Studio 4: How to Use Neural Networks with Python\n",
    "In this studio you will learn the basics of building Artifical Neural Netowkrs in Python. You will also learn how to compare different types of modeling tehcniques and find the best tool for the question you are trying to answer.<br>\n",
    "<br>\n",
    "Each *Python for Healthcare* studio has six sections:\n",
    "1. **Objectives**\n",
    "2. **Readings and Videos**\n",
    "3. **Discussion**\n",
    "4. **Analysis**\n",
    "5. **Conclusion**\n",
    "6. **Reflection**\n",
    "\n",
    "Refer to the video below to learn how to use the *Python for Healthcare* studios.\n",
    "\n",
    "[\"How to use Py4HC Notebooks\"](https://www.youtube.com/watch?v=5fzBGgflXk8&t=4s)  "
   ]
  },
  {
   "cell_type": "markdown",
   "metadata": {},
   "source": [
    "---"
   ]
  },
  {
   "cell_type": "markdown",
   "metadata": {},
   "source": [
    "## Objectives\n",
    "By the end of this course, our goal is for you to learn how to start using the Python Programming Language in health science applications. This includes:\n",
    "\n",
    "- Understanding how computer code allows humans to talk to computers\n",
    "- Learning the concrete process for using computer code and Python\n",
    "- Becoming familiar with the process of writing in Python\n",
    "- Identify healthcare questions that can be answered with open source data science tools\n",
    "- Experience how Python can be used to answer questions related to healthcare\n",
    "- Increase awareness of how Python can be used in a future career in healthcare\n",
    "\n",
    "Keep these goals in mind as you go through the studios and the course. If you dont understand every part, that is ok. Use these resources to get familair with the concepts.\n"
   ]
  },
  {
   "cell_type": "markdown",
   "metadata": {},
   "source": [
    "## Videos\n",
    "Before starting the **Discussion**, watch the following:\n",
    "\n",
    "[\"How to Talk to Computers: Part 4\"]()   \n",
    "[\"Neural Network in 5 Minutes\"](https://www.youtube.com/watch?v=bfmFfD2RIcg)"
   ]
  },
  {
   "cell_type": "markdown",
   "metadata": {},
   "source": [
    "## Discussion\n",
    "After completing the readings and videos above, answer the following questions with your team. \n",
    "\n",
    "1. There are many different types of models with different use cases. What are the important concepts to consider when trying to find a model to answer your question?\n",
    "2. In the videos and readings, you can see that the mathematical concepts for Data Science can be very advanced, but the code is much simpler to write. Since you can't learn everything, what things do you have to understand about the math in order to use a model appropriately?\n",
    "3. While many like advanced techniques because they sound cool, it is not uncommon for them to be used inappropriately. What kind of applications would you like to use for these advanced tools that could not be answered using a simpler method?\n",
    "\n",
    "Be sure that everyone answers each question and responds to at least one answer from another team member. "
   ]
  },
  {
   "cell_type": "markdown",
   "metadata": {},
   "source": [
    "## Analysis\n",
    "In each module, you will complete a live data analysis with your team. The goal of the studio is to give you hands on experience writing Python code and using Data Science tools that are important for health science.<br>\n",
    "<br>\n",
    "In each **Analysis** section, there are four steps:\n",
    "1. Setup Workspace\n",
    "2. Process Data\n",
    "3. Create Model\n",
    "4. Display Results\n",
    "\n",
    "Within each step of the **Analysis** a header will provide general details about what the lines of code below are used to do.<br>\n",
    "<br>\n",
    "As you complete the **Analysis** component of the studio, follow this video below to understand each of the steps in the code."
   ]
  },
  {
   "cell_type": "markdown",
   "metadata": {},
   "source": [
    "### Step 1: Setup Workspace\n",
    "In the first step, you will assemble libraries, set your working directory, and import data. You will do this same process before every analysis. This is just like setting up your brushes, canvas, and easel for paiting or putting your tools, parts, and bike in the repair stand."
   ]
  },
  {
   "cell_type": "markdown",
   "metadata": {},
   "source": [
    "![](_fig/E1_1_1.jpg)"
   ]
  },
  {
   "cell_type": "markdown",
   "metadata": {},
   "source": [
    "![](_fig/E1_1_2.jpg)"
   ]
  },
  {
   "cell_type": "markdown",
   "metadata": {},
   "source": [
    "#### Import Standard Libraries\n",
    "These libraries are imported for every data science related Python script."
   ]
  },
  {
   "cell_type": "code",
   "execution_count": 2,
   "metadata": {},
   "outputs": [],
   "source": []
  },
  {
   "cell_type": "markdown",
   "metadata": {},
   "source": [
    "#### Import Specific Libraries\n",
    "These libraries are used for specific components of the script."
   ]
  },
  {
   "cell_type": "code",
   "execution_count": 3,
   "metadata": {},
   "outputs": [],
   "source": [
    "from sklearn.preprocessing import StandardScaler\n",
    "from sklearn.impute import SimpleImputer\n",
    "from sklearn.metrics import roc_curve\n",
    "from sklearn.metrics import auc\n",
    "from keras.models import Sequential  \n",
    "from keras.layers import Dense"
   ]
  },
  {
   "cell_type": "markdown",
   "metadata": {},
   "source": [
    "#### Set Working Directory\n",
    "This is the location of the folder on your device that holds all of your files. Once you set this, any file can be accessed by the relative location. "
   ]
  },
  {
   "cell_type": "code",
   "execution_count": 7,
   "metadata": {},
   "outputs": [],
   "source": []
  },
  {
   "cell_type": "markdown",
   "metadata": {},
   "source": [
    "#### Import Data\n",
    "In order to use data, you will often import from a `\".csv\"` file located in your directory and save it with a useful name. After importing, you can use `.info()` and `.head()` to quicky view the data. "
   ]
  },
  {
   "cell_type": "code",
   "execution_count": 8,
   "metadata": {},
   "outputs": [],
   "source": []
  },
  {
   "cell_type": "code",
   "execution_count": null,
   "metadata": {
    "scrolled": false
   },
   "outputs": [],
   "source": []
  },
  {
   "cell_type": "code",
   "execution_count": 10,
   "metadata": {},
   "outputs": [],
   "source": []
  },
  {
   "cell_type": "code",
   "execution_count": null,
   "metadata": {
    "scrolled": false
   },
   "outputs": [],
   "source": []
  },
  {
   "cell_type": "markdown",
   "metadata": {},
   "source": [
    "### Step 2: Process Data\n",
    "In the second step, you will modfiy the data frames that you imported in order to get them ready for whatever model you wish to create. You will need to make sure the data is correctly subset or joined, uses the correct shape and type, and has missing values resolved. This is just like kneading clay to remove air bubbles or cleaning the bike before you install new parts. "
   ]
  },
  {
   "cell_type": "markdown",
   "metadata": {},
   "source": [
    "![](_fig/E3_2_1.jpg)"
   ]
  },
  {
   "cell_type": "markdown",
   "metadata": {},
   "source": [
    "![](_fig/E3_2_2.jpg)"
   ]
  },
  {
   "cell_type": "markdown",
   "metadata": {},
   "source": [
    "#### Filter DataFrame\n",
    "This will remove all columns except those specified."
   ]
  },
  {
   "cell_type": "code",
   "execution_count": 13,
   "metadata": {},
   "outputs": [],
   "source": []
  },
  {
   "cell_type": "markdown",
   "metadata": {},
   "source": [
    "#### Rename Columns\n",
    "This will rename selected columns except those specified."
   ]
  },
  {
   "cell_type": "code",
   "execution_count": null,
   "metadata": {},
   "outputs": [],
   "source": []
  },
  {
   "cell_type": "markdown",
   "metadata": {},
   "source": [
    "#### Describe Columns\n",
    "This will provoide descriptive statistics on a given column of a DataFrame. "
   ]
  },
  {
   "cell_type": "code",
   "execution_count": null,
   "metadata": {},
   "outputs": [],
   "source": [
    "df_doh[\"Diabetes Mortality\"].describe()"
   ]
  },
  {
   "cell_type": "markdown",
   "metadata": {},
   "source": [
    "#### Create Columns Based on Conditions\n",
    "This will create a new column in a DataFrame based on given conditions of another column. This is commonlu used to create a categorical version of a quantitative outcome."
   ]
  },
  {
   "cell_type": "code",
   "execution_count": null,
   "metadata": {},
   "outputs": [],
   "source": [
    "df_doh[\"train\"] = np.where(df_doh[\"Diabetes Mortality\"] > 2.125, 1, 0)\n",
    "df_doh[\"test\"] = np.where(df_doh[\"Diabetes Mortality\"] > 1.44, 1, 0) "
   ]
  },
  {
   "cell_type": "markdown",
   "metadata": {},
   "source": [
    "#### Drop Columns\n",
    "This will drop selected columns from the DataFrame."
   ]
  },
  {
   "cell_type": "code",
   "execution_count": null,
   "metadata": {},
   "outputs": [],
   "source": []
  },
  {
   "cell_type": "markdown",
   "metadata": {},
   "source": [
    "#### Join DataFrames\n",
    "This will join two pandas DataFrames along a column they both share with an identical name and data type. For common options:<br>\n",
    "`how = \"inner\"` Keeps rows that appear in both<br>\n",
    "`how = \"outer\"` Keeps every row from both<br>\n",
    "`how = \"left\"` Keeps every row from the first, and assigns any row from the left (including duplicates).<br>"
   ]
  },
  {
   "cell_type": "code",
   "execution_count": 12,
   "metadata": {},
   "outputs": [],
   "source": []
  },
  {
   "cell_type": "markdown",
   "metadata": {},
   "source": [
    "#### Drop NA Values (with threshold)\n",
    "This will drop all columns that have a missing value above a given threshold. 75% non-missing data is commonly used threshold for machine learning. "
   ]
  },
  {
   "cell_type": "code",
   "execution_count": null,
   "metadata": {},
   "outputs": [],
   "source": []
  },
  {
   "cell_type": "markdown",
   "metadata": {},
   "source": [
    "#### Impute Missing Values\n",
    "One option for handling missing values in large datasets is to impute values using a mathematical process. This will impute missing values with the \"median\" value for each column."
   ]
  },
  {
   "cell_type": "code",
   "execution_count": null,
   "metadata": {},
   "outputs": [],
   "source": []
  },
  {
   "cell_type": "markdown",
   "metadata": {},
   "source": [
    "#### Standard Scaling\n",
    "With large data and complex algorithms, standard scaling allows helps improve the modeling process and provide better resutls. This will create a new DataFrame where all columns will have a median of 0 and a standard deviation of 1."
   ]
  },
  {
   "cell_type": "code",
   "execution_count": 15,
   "metadata": {},
   "outputs": [],
   "source": []
  },
  {
   "cell_type": "markdown",
   "metadata": {},
   "source": [
    "#### Verify\n",
    "At the end of each step, use `.info()` and `.head()` to quicky view the data."
   ]
  },
  {
   "cell_type": "code",
   "execution_count": null,
   "metadata": {},
   "outputs": [],
   "source": []
  },
  {
   "cell_type": "markdown",
   "metadata": {},
   "source": [
    "### Step 3: Create Model\n",
    "In this step you will create a model that provides meaningful information about the data. This can include a statistical test, a machine learning algorithm, or a neural network. This is similar to drawing a still life or writing a poem. \n"
   ]
  },
  {
   "cell_type": "markdown",
   "metadata": {},
   "source": [
    "![](_fig/E4_3_1.jpg)"
   ]
  },
  {
   "cell_type": "markdown",
   "metadata": {},
   "source": [
    "#### Multi-Layer Perceptron\n",
    "A Multi-Layer Perceptron is a simple type of artifical neural netowkr that uses \"dense\" layers to learn how to predict an outcome. Neural Networks pass predictors through a layer of multiple neurons where a function modifies the value along with a \"weight\" value. Each predictor is passed through each neuron and a final set of predictions are made. Those predictions are compared to the actual value and error is calculated. The network then uses the error to apply the inverse of the fucntion backwards through \"backpropogating.\" When this occurs, the weights are updated to improve the model. This process is called an \"epoch\" and the neural network will do this a given amount of times so that predictive ability is improved. "
   ]
  },
  {
   "cell_type": "code",
   "execution_count": null,
   "metadata": {},
   "outputs": [],
   "source": []
  },
  {
   "cell_type": "code",
   "execution_count": null,
   "metadata": {},
   "outputs": [],
   "source": []
  },
  {
   "cell_type": "code",
   "execution_count": null,
   "metadata": {},
   "outputs": [],
   "source": []
  },
  {
   "cell_type": "code",
   "execution_count": null,
   "metadata": {},
   "outputs": [],
   "source": []
  },
  {
   "cell_type": "markdown",
   "metadata": {},
   "source": [
    "### Step 4: Display Results\n",
    "In this step you will create an informative visual that displays the results for others to see. This is similar to framing your finished painting or posting an image to social media with an informative caption. "
   ]
  },
  {
   "cell_type": "markdown",
   "metadata": {},
   "source": [
    "![](_fig/E4_4_1.jpg)"
   ]
  },
  {
   "cell_type": "markdown",
   "metadata": {},
   "source": [
    "#### ROC Test\n",
    "The Reciever Operator Curve compares the true positive and false negative of a given test. This allows for easy comparison of how well the preditive test is at providing meaningful results."
   ]
  },
  {
   "cell_type": "code",
   "execution_count": null,
   "metadata": {
    "scrolled": true
   },
   "outputs": [],
   "source": []
  },
  {
   "cell_type": "markdown",
   "metadata": {},
   "source": [
    "## Conclusion\n",
    "In your own words write the following:\n",
    "\n",
    "1. This topic is important because...\n",
    "\n",
    "Identify two peer reviewed scientific articles that have findings related to your first statement. Then write the following:\n",
    "\n",
    "2. Other studies have found that...\n",
    "\n",
    "Using the results of the analysis above, craft a simple conclusion with the following items:\n",
    "\n",
    "3. It was hypothesized that...\n",
    "4. Data was collected from...\n",
    "5. The study found that...\n",
    "6. This provides evidence that...\n",
    "\n",
    "After writing each of these statements, assemble them into a paragraph in the shown order. Then do the following:\n",
    "\n",
    "- Edit the paragraph to be coherent\n",
    "- Provide a simple title\n",
    "- Add references in an appropirate style\n",
    "\n",
    "Now you have an abstract!"
   ]
  },
  {
   "cell_type": "code",
   "execution_count": null,
   "metadata": {},
   "outputs": [],
   "source": []
  },
  {
   "cell_type": "markdown",
   "metadata": {},
   "source": [
    "## Reflection\n",
    "After completing the studio session please pick one or two of the following questions to discuss with your team. \n",
    "\n",
    "1. What was something new that you learned in this module?\n",
    "2. What was something that you knew previously but heard differently in this module?\n",
    "3. What was something that understand better after this module?\n",
    "4. What was something that is confusing after this module?\n",
    "\n",
    "Each team member may select a different question, but be sure that everyone provides a refelction and responds to another's reflection."
   ]
  },
  {
   "cell_type": "markdown",
   "metadata": {},
   "source": [
    "---\n",
    "After you have completed the studio, print the page as a PDF and save it on your local computer. "
   ]
  }
 ],
 "metadata": {
  "kernelspec": {
   "display_name": "Python 3",
   "language": "python",
   "name": "python3"
  },
  "language_info": {
   "codemirror_mode": {
    "name": "ipython",
    "version": 3
   },
   "file_extension": ".py",
   "mimetype": "text/x-python",
   "name": "python",
   "nbconvert_exporter": "python",
   "pygments_lexer": "ipython3",
   "version": "3.8.3"
  }
 },
 "nbformat": 4,
 "nbformat_minor": 4
}
