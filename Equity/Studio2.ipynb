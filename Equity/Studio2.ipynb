{
 "cells": [
  {
   "cell_type": "markdown",
   "metadata": {},
   "source": [
    "![](_fig/labeled.jpg)"
   ]
  },
  {
   "cell_type": "markdown",
   "metadata": {},
   "source": [
    "# Studio 2: How to Work with Data in Python\n",
    "In this studio you will learn the basics of what computer code is and how best to think about learning to write code in the Python Programming Language. You will also learn how to test whether two quantitative variables have a statistically significant association.<br>\n",
    "<br>\n",
    "Each *Python for Healthcare* studio has six sections:\n",
    "1. **Objectives**\n",
    "2. **Readings and Videos**\n",
    "3. **Discussion**\n",
    "4. **Analysis**\n",
    "5. **Conclusion**\n",
    "6. **Reflection**\n",
    "\n",
    "Refer to the video below to learn how to use the *Python for Healthcare* studios.\n",
    "\n",
    "[\"How to use Py4HC Notebooks\"](https://www.youtube.com/watch?v=5fzBGgflXk8&t=4s)  "
   ]
  },
  {
   "cell_type": "markdown",
   "metadata": {},
   "source": [
    "---"
   ]
  },
  {
   "cell_type": "markdown",
   "metadata": {},
   "source": [
    "## Objectives\n",
    "By the end of this course, our goal is for you to learn how to start using the Python Programming Language in health science applications. This includes:\n",
    "\n",
    "- Understanding how computer code allows humans to talk to computers\n",
    "- Learning the concrete process for using computer code and Python\n",
    "- Becoming familiar with the process of writing in Python\n",
    "- Identify healthcare questions that can be answered with open source data science tools\n",
    "- Experience how Python can be used to answer questions related to healthcare\n",
    "- Increase awareness of how Python can be used in a future career in healthcare\n",
    "\n",
    "Keep these goals in mind as you go through the studios and the course. If you dont understand every part, that is ok. Use these resources to get familair with the concepts.\n"
   ]
  },
  {
   "cell_type": "markdown",
   "metadata": {},
   "source": [
    "## Videos\n",
    "Before starting the **Discussion**, watch the following:\n",
    "\n",
    "[\"How to Talk to Computers: Part 2\"](https://www.youtube.com/watch?v=sw6bWACGybo)   \n",
    "[\"What is the Point of Statistical Inference?\": Causal Inference Bootcamp](https://www.youtube.com/watch?v=3IOzq0hOttY) "
   ]
  },
  {
   "cell_type": "markdown",
   "metadata": {},
   "source": [
    "## Discussion\n",
    "After completing the readings and videos above, answer the following questions with your team. \n",
    "\n",
    "1. There are a handful of different programs you can use to run and write code. What experience have you had with programs like these? What was that experience like for you?\n",
    "2. In the videos and readings, you can see that Data Science invovles both statistics and programming. What do you feel more comfortable with and why? What makes each practice easier to learn for you?\n",
    "3. Statistical tests allow for us to provide evidence from the data for big important questions. What are the big questions you would like to answer?\n",
    "\n",
    "Be sure that everyone answers each question and responds to at least one answer from another team member. "
   ]
  },
  {
   "cell_type": "markdown",
   "metadata": {},
   "source": [
    "## Analysis\n",
    "In each module, you will complete a live data analysis with your team. The goal of the studio is to give you hands on experience writing Python code and using Data Science tools that are important for health science.<br>\n",
    "<br>\n",
    "In each **Analysis** section, there are four steps:\n",
    "1. Setup Workspace\n",
    "2. Process Data\n",
    "3. Create Model\n",
    "4. Display Results\n",
    "\n",
    "Within each step of the **Analysis** a header will provide general details about what the lines of code below are used to do.<br>\n",
    "<br>\n",
    "As you complete the **Analysis** component of the studio, follow this video below to understand each of the steps in the code.\n",
    "\n",
    "[\"Notebook 2: Multiple Regression\"](https://www.youtube.com/watch?v=5fzBGgflXk8&t=4s)"
   ]
  },
  {
   "cell_type": "markdown",
   "metadata": {},
   "source": [
    "### Step 1: Setup Workspace\n",
    "In the first step, you will assemble libraries, set your working directory, and import data. You will do this same process before every analysis. This is just like setting up your brushes, canvas, and easel for paiting or putting your tools, parts, and bike in the repair stand."
   ]
  },
  {
   "cell_type": "markdown",
   "metadata": {},
   "source": [
    "#### Import Standard Libraries\n",
    "These libraries are imported for every data science related Python script."
   ]
  },
  {
   "cell_type": "code",
   "execution_count": 2,
   "metadata": {},
   "outputs": [],
   "source": [
    "import os\n",
    "import pandas as pd\n",
    "import numpy as np"
   ]
  },
  {
   "cell_type": "markdown",
   "metadata": {},
   "source": [
    "#### Import Specific Libraries\n",
    "These libraries are used for specific components of the script."
   ]
  },
  {
   "cell_type": "code",
   "execution_count": 3,
   "metadata": {},
   "outputs": [],
   "source": [
    "import statsmodels.api as sm\n",
    "import matplotlib.pyplot as plt"
   ]
  },
  {
   "cell_type": "markdown",
   "metadata": {},
   "source": [
    "#### Set Working Directory\n",
    "This is the location of the folder on your device that holds all of your files. Once you set this, any file can be accessed by the relative location. "
   ]
  },
  {
   "cell_type": "code",
   "execution_count": 7,
   "metadata": {},
   "outputs": [],
   "source": [
    "os.chdir(\"/home/drewc/GitHub/allocativ/py4hc/Equity/Studio2\")"
   ]
  },
  {
   "cell_type": "markdown",
   "metadata": {},
   "source": [
    "#### Import Data\n",
    "In order to use data, you will often import from a `\".csv\"` file located in your directory and save it with a useful name. After importing, you can use `.info()` and `.head()` to quicky view the data. "
   ]
  },
  {
   "cell_type": "code",
   "execution_count": 8,
   "metadata": {},
   "outputs": [],
   "source": [
    "df_doh = pd.read_csv(\"_data/doh.csv\")"
   ]
  },
  {
   "cell_type": "code",
   "execution_count": 9,
   "metadata": {
    "scrolled": false
   },
   "outputs": [
    {
     "name": "stdout",
     "output_type": "stream",
     "text": [
      "<class 'pandas.core.frame.DataFrame'>\n",
      "RangeIndex: 970 entries, 0 to 969\n",
      "Data columns (total 19 columns):\n",
      " #   Column          Non-Null Count  Dtype  \n",
      "---  ------          --------------  -----  \n",
      " 0   ZCTA            970 non-null    object \n",
      " 1   PERCENT_TOTAL   970 non-null    float64\n",
      " 2   POPULATION      970 non-null    int64  \n",
      " 3   A00_B99_R1000   970 non-null    float64\n",
      " 4   Benign_R1000    970 non-null    float64\n",
      " 5   D50_D64_R1000   970 non-null    float64\n",
      " 6   E00_E99_R1000   970 non-null    float64\n",
      " 7   G00_G99_R1000   970 non-null    float64\n",
      " 8   J00_J99_R1000   970 non-null    float64\n",
      " 9   K00_K99_R1000   970 non-null    float64\n",
      " 10  N00_N99_R1000   970 non-null    float64\n",
      " 11  O00_O07_R1000   970 non-null    float64\n",
      " 12  O10_O99_R1000   970 non-null    float64\n",
      " 13  P00_P99_R1000   970 non-null    float64\n",
      " 14  Q00_Q99_R1000   970 non-null    float64\n",
      " 15  Abnormal_R1000  970 non-null    float64\n",
      " 16  Residual_R1000  970 non-null    float64\n",
      " 17  V01_Y89_R1000   970 non-null    float64\n",
      " 18  SIDS_R1000      970 non-null    float64\n",
      "dtypes: float64(17), int64(1), object(1)\n",
      "memory usage: 144.1+ KB\n"
     ]
    },
    {
     "data": {
      "text/html": [
       "<div>\n",
       "<style scoped>\n",
       "    .dataframe tbody tr th:only-of-type {\n",
       "        vertical-align: middle;\n",
       "    }\n",
       "\n",
       "    .dataframe tbody tr th {\n",
       "        vertical-align: top;\n",
       "    }\n",
       "\n",
       "    .dataframe thead th {\n",
       "        text-align: right;\n",
       "    }\n",
       "</style>\n",
       "<table border=\"1\" class=\"dataframe\">\n",
       "  <thead>\n",
       "    <tr style=\"text-align: right;\">\n",
       "      <th></th>\n",
       "      <th>ZCTA</th>\n",
       "      <th>PERCENT_TOTAL</th>\n",
       "      <th>POPULATION</th>\n",
       "      <th>A00_B99_R1000</th>\n",
       "      <th>Benign_R1000</th>\n",
       "      <th>D50_D64_R1000</th>\n",
       "      <th>E00_E99_R1000</th>\n",
       "      <th>G00_G99_R1000</th>\n",
       "      <th>J00_J99_R1000</th>\n",
       "      <th>K00_K99_R1000</th>\n",
       "      <th>N00_N99_R1000</th>\n",
       "      <th>O00_O07_R1000</th>\n",
       "      <th>O10_O99_R1000</th>\n",
       "      <th>P00_P99_R1000</th>\n",
       "      <th>Q00_Q99_R1000</th>\n",
       "      <th>Abnormal_R1000</th>\n",
       "      <th>Residual_R1000</th>\n",
       "      <th>V01_Y89_R1000</th>\n",
       "      <th>SIDS_R1000</th>\n",
       "    </tr>\n",
       "  </thead>\n",
       "  <tbody>\n",
       "    <tr>\n",
       "      <th>0</th>\n",
       "      <td>ZCTA32830</td>\n",
       "      <td>2.430000e-07</td>\n",
       "      <td>5</td>\n",
       "      <td>0.00</td>\n",
       "      <td>0.0</td>\n",
       "      <td>0.0</td>\n",
       "      <td>0.00</td>\n",
       "      <td>0.0</td>\n",
       "      <td>0.00</td>\n",
       "      <td>200.00</td>\n",
       "      <td>0.0</td>\n",
       "      <td>0.0</td>\n",
       "      <td>0.0</td>\n",
       "      <td>0.0</td>\n",
       "      <td>0.0</td>\n",
       "      <td>0.00</td>\n",
       "      <td>200.00</td>\n",
       "      <td>0.00</td>\n",
       "      <td>0.0</td>\n",
       "    </tr>\n",
       "    <tr>\n",
       "      <th>1</th>\n",
       "      <td>ZCTA34141</td>\n",
       "      <td>3.255000e-06</td>\n",
       "      <td>67</td>\n",
       "      <td>0.00</td>\n",
       "      <td>0.0</td>\n",
       "      <td>0.0</td>\n",
       "      <td>14.93</td>\n",
       "      <td>0.0</td>\n",
       "      <td>0.00</td>\n",
       "      <td>29.85</td>\n",
       "      <td>0.0</td>\n",
       "      <td>0.0</td>\n",
       "      <td>0.0</td>\n",
       "      <td>0.0</td>\n",
       "      <td>0.0</td>\n",
       "      <td>29.85</td>\n",
       "      <td>14.93</td>\n",
       "      <td>179.10</td>\n",
       "      <td>0.0</td>\n",
       "    </tr>\n",
       "    <tr>\n",
       "      <th>2</th>\n",
       "      <td>ZCTA32356</td>\n",
       "      <td>4.420000e-06</td>\n",
       "      <td>91</td>\n",
       "      <td>0.00</td>\n",
       "      <td>0.0</td>\n",
       "      <td>0.0</td>\n",
       "      <td>10.99</td>\n",
       "      <td>0.0</td>\n",
       "      <td>0.00</td>\n",
       "      <td>0.00</td>\n",
       "      <td>0.0</td>\n",
       "      <td>0.0</td>\n",
       "      <td>0.0</td>\n",
       "      <td>0.0</td>\n",
       "      <td>0.0</td>\n",
       "      <td>0.00</td>\n",
       "      <td>0.00</td>\n",
       "      <td>0.00</td>\n",
       "      <td>0.0</td>\n",
       "    </tr>\n",
       "    <tr>\n",
       "      <th>3</th>\n",
       "      <td>ZCTA34679</td>\n",
       "      <td>5.003000e-06</td>\n",
       "      <td>103</td>\n",
       "      <td>0.00</td>\n",
       "      <td>0.0</td>\n",
       "      <td>0.0</td>\n",
       "      <td>0.00</td>\n",
       "      <td>0.0</td>\n",
       "      <td>29.13</td>\n",
       "      <td>0.00</td>\n",
       "      <td>0.0</td>\n",
       "      <td>0.0</td>\n",
       "      <td>0.0</td>\n",
       "      <td>0.0</td>\n",
       "      <td>0.0</td>\n",
       "      <td>0.00</td>\n",
       "      <td>9.71</td>\n",
       "      <td>19.42</td>\n",
       "      <td>0.0</td>\n",
       "    </tr>\n",
       "    <tr>\n",
       "      <th>4</th>\n",
       "      <td>ZCTA33122</td>\n",
       "      <td>5.295000e-06</td>\n",
       "      <td>109</td>\n",
       "      <td>9.17</td>\n",
       "      <td>0.0</td>\n",
       "      <td>0.0</td>\n",
       "      <td>0.00</td>\n",
       "      <td>0.0</td>\n",
       "      <td>0.00</td>\n",
       "      <td>0.00</td>\n",
       "      <td>0.0</td>\n",
       "      <td>0.0</td>\n",
       "      <td>0.0</td>\n",
       "      <td>0.0</td>\n",
       "      <td>0.0</td>\n",
       "      <td>0.00</td>\n",
       "      <td>9.17</td>\n",
       "      <td>18.35</td>\n",
       "      <td>0.0</td>\n",
       "    </tr>\n",
       "  </tbody>\n",
       "</table>\n",
       "</div>"
      ],
      "text/plain": [
       "        ZCTA  PERCENT_TOTAL  POPULATION  A00_B99_R1000  Benign_R1000  \\\n",
       "0  ZCTA32830   2.430000e-07           5           0.00           0.0   \n",
       "1  ZCTA34141   3.255000e-06          67           0.00           0.0   \n",
       "2  ZCTA32356   4.420000e-06          91           0.00           0.0   \n",
       "3  ZCTA34679   5.003000e-06         103           0.00           0.0   \n",
       "4  ZCTA33122   5.295000e-06         109           9.17           0.0   \n",
       "\n",
       "   D50_D64_R1000  E00_E99_R1000  G00_G99_R1000  J00_J99_R1000  K00_K99_R1000  \\\n",
       "0            0.0           0.00            0.0           0.00         200.00   \n",
       "1            0.0          14.93            0.0           0.00          29.85   \n",
       "2            0.0          10.99            0.0           0.00           0.00   \n",
       "3            0.0           0.00            0.0          29.13           0.00   \n",
       "4            0.0           0.00            0.0           0.00           0.00   \n",
       "\n",
       "   N00_N99_R1000  O00_O07_R1000  O10_O99_R1000  P00_P99_R1000  Q00_Q99_R1000  \\\n",
       "0            0.0            0.0            0.0            0.0            0.0   \n",
       "1            0.0            0.0            0.0            0.0            0.0   \n",
       "2            0.0            0.0            0.0            0.0            0.0   \n",
       "3            0.0            0.0            0.0            0.0            0.0   \n",
       "4            0.0            0.0            0.0            0.0            0.0   \n",
       "\n",
       "   Abnormal_R1000  Residual_R1000  V01_Y89_R1000  SIDS_R1000  \n",
       "0            0.00          200.00           0.00         0.0  \n",
       "1           29.85           14.93         179.10         0.0  \n",
       "2            0.00            0.00           0.00         0.0  \n",
       "3            0.00            9.71          19.42         0.0  \n",
       "4            0.00            9.17          18.35         0.0  "
      ]
     },
     "execution_count": 9,
     "metadata": {},
     "output_type": "execute_result"
    }
   ],
   "source": [
    "df_doh.info()\n",
    "df_doh.head()"
   ]
  },
  {
   "cell_type": "code",
   "execution_count": 10,
   "metadata": {},
   "outputs": [],
   "source": [
    "df_acs = pd.read_csv(\"_data/acs.csv\")"
   ]
  },
  {
   "cell_type": "code",
   "execution_count": 11,
   "metadata": {
    "scrolled": false
   },
   "outputs": [
    {
     "name": "stdout",
     "output_type": "stream",
     "text": [
      "<class 'pandas.core.frame.DataFrame'>\n",
      "RangeIndex: 32829 entries, 0 to 32828\n",
      "Columns: 478 entries, FIPS to DP05_0031PE\n",
      "dtypes: float64(427), int64(48), object(3)\n",
      "memory usage: 119.7+ MB\n"
     ]
    },
    {
     "data": {
      "text/html": [
       "<div>\n",
       "<style scoped>\n",
       "    .dataframe tbody tr th:only-of-type {\n",
       "        vertical-align: middle;\n",
       "    }\n",
       "\n",
       "    .dataframe tbody tr th {\n",
       "        vertical-align: top;\n",
       "    }\n",
       "\n",
       "    .dataframe thead th {\n",
       "        text-align: right;\n",
       "    }\n",
       "</style>\n",
       "<table border=\"1\" class=\"dataframe\">\n",
       "  <thead>\n",
       "    <tr style=\"text-align: right;\">\n",
       "      <th></th>\n",
       "      <th>FIPS</th>\n",
       "      <th>ZCTA</th>\n",
       "      <th>ST</th>\n",
       "      <th>DP02_0001PE</th>\n",
       "      <th>DP02_0002PE</th>\n",
       "      <th>DP02_0003PE</th>\n",
       "      <th>DP02_0004PE</th>\n",
       "      <th>DP02_0005PE</th>\n",
       "      <th>DP02_0006PE</th>\n",
       "      <th>DP02_0007PE</th>\n",
       "      <th>...</th>\n",
       "      <th>DP05_0021PE</th>\n",
       "      <th>DP05_0022PE</th>\n",
       "      <th>DP05_0023PE</th>\n",
       "      <th>DP05_0024PE</th>\n",
       "      <th>DP05_0025PE</th>\n",
       "      <th>DP05_0026PE</th>\n",
       "      <th>DP05_0027PE</th>\n",
       "      <th>DP05_0029PE</th>\n",
       "      <th>DP05_0030PE</th>\n",
       "      <th>DP05_0031PE</th>\n",
       "    </tr>\n",
       "  </thead>\n",
       "  <tbody>\n",
       "    <tr>\n",
       "      <th>0</th>\n",
       "      <td>FIPS01001</td>\n",
       "      <td>ZCTA36003</td>\n",
       "      <td>AL</td>\n",
       "      <td>913</td>\n",
       "      <td>59.9</td>\n",
       "      <td>12.8</td>\n",
       "      <td>44.4</td>\n",
       "      <td>11.3</td>\n",
       "      <td>2.4</td>\n",
       "      <td>1.0</td>\n",
       "      <td>...</td>\n",
       "      <td>89.4</td>\n",
       "      <td>83.6</td>\n",
       "      <td>27.1</td>\n",
       "      <td>23.0</td>\n",
       "      <td>1696</td>\n",
       "      <td>44.6</td>\n",
       "      <td>55.4</td>\n",
       "      <td>436</td>\n",
       "      <td>54.1</td>\n",
       "      <td>45.9</td>\n",
       "    </tr>\n",
       "    <tr>\n",
       "      <th>1</th>\n",
       "      <td>FIPS01001</td>\n",
       "      <td>ZCTA36067</td>\n",
       "      <td>AL</td>\n",
       "      <td>10351</td>\n",
       "      <td>72.7</td>\n",
       "      <td>30.8</td>\n",
       "      <td>55.7</td>\n",
       "      <td>22.5</td>\n",
       "      <td>3.4</td>\n",
       "      <td>1.2</td>\n",
       "      <td>...</td>\n",
       "      <td>75.0</td>\n",
       "      <td>69.9</td>\n",
       "      <td>16.9</td>\n",
       "      <td>14.0</td>\n",
       "      <td>21545</td>\n",
       "      <td>47.3</td>\n",
       "      <td>52.7</td>\n",
       "      <td>4026</td>\n",
       "      <td>43.2</td>\n",
       "      <td>56.8</td>\n",
       "    </tr>\n",
       "    <tr>\n",
       "      <th>2</th>\n",
       "      <td>FIPS01001</td>\n",
       "      <td>ZCTA36066</td>\n",
       "      <td>AL</td>\n",
       "      <td>7950</td>\n",
       "      <td>68.3</td>\n",
       "      <td>34.9</td>\n",
       "      <td>53.7</td>\n",
       "      <td>26.5</td>\n",
       "      <td>4.7</td>\n",
       "      <td>2.7</td>\n",
       "      <td>...</td>\n",
       "      <td>75.1</td>\n",
       "      <td>73.7</td>\n",
       "      <td>17.0</td>\n",
       "      <td>15.1</td>\n",
       "      <td>14339</td>\n",
       "      <td>48.1</td>\n",
       "      <td>51.9</td>\n",
       "      <td>2878</td>\n",
       "      <td>42.9</td>\n",
       "      <td>57.1</td>\n",
       "    </tr>\n",
       "    <tr>\n",
       "      <th>3</th>\n",
       "      <td>FIPS01001</td>\n",
       "      <td>ZCTA36006</td>\n",
       "      <td>AL</td>\n",
       "      <td>423</td>\n",
       "      <td>58.4</td>\n",
       "      <td>15.1</td>\n",
       "      <td>45.6</td>\n",
       "      <td>12.3</td>\n",
       "      <td>4.3</td>\n",
       "      <td>0.0</td>\n",
       "      <td>...</td>\n",
       "      <td>91.2</td>\n",
       "      <td>85.9</td>\n",
       "      <td>30.6</td>\n",
       "      <td>24.9</td>\n",
       "      <td>833</td>\n",
       "      <td>44.8</td>\n",
       "      <td>55.2</td>\n",
       "      <td>227</td>\n",
       "      <td>37.0</td>\n",
       "      <td>63.0</td>\n",
       "    </tr>\n",
       "    <tr>\n",
       "      <th>4</th>\n",
       "      <td>FIPS01001</td>\n",
       "      <td>ZCTA36051</td>\n",
       "      <td>AL</td>\n",
       "      <td>832</td>\n",
       "      <td>74.8</td>\n",
       "      <td>30.5</td>\n",
       "      <td>58.7</td>\n",
       "      <td>18.4</td>\n",
       "      <td>2.2</td>\n",
       "      <td>0.0</td>\n",
       "      <td>...</td>\n",
       "      <td>79.4</td>\n",
       "      <td>76.2</td>\n",
       "      <td>16.0</td>\n",
       "      <td>11.8</td>\n",
       "      <td>1672</td>\n",
       "      <td>51.6</td>\n",
       "      <td>48.4</td>\n",
       "      <td>249</td>\n",
       "      <td>36.1</td>\n",
       "      <td>63.9</td>\n",
       "    </tr>\n",
       "  </tbody>\n",
       "</table>\n",
       "<p>5 rows × 478 columns</p>\n",
       "</div>"
      ],
      "text/plain": [
       "        FIPS       ZCTA  ST  DP02_0001PE  DP02_0002PE  DP02_0003PE  \\\n",
       "0  FIPS01001  ZCTA36003  AL          913         59.9         12.8   \n",
       "1  FIPS01001  ZCTA36067  AL        10351         72.7         30.8   \n",
       "2  FIPS01001  ZCTA36066  AL         7950         68.3         34.9   \n",
       "3  FIPS01001  ZCTA36006  AL          423         58.4         15.1   \n",
       "4  FIPS01001  ZCTA36051  AL          832         74.8         30.5   \n",
       "\n",
       "   DP02_0004PE  DP02_0005PE  DP02_0006PE  DP02_0007PE  ...  DP05_0021PE  \\\n",
       "0         44.4         11.3          2.4          1.0  ...         89.4   \n",
       "1         55.7         22.5          3.4          1.2  ...         75.0   \n",
       "2         53.7         26.5          4.7          2.7  ...         75.1   \n",
       "3         45.6         12.3          4.3          0.0  ...         91.2   \n",
       "4         58.7         18.4          2.2          0.0  ...         79.4   \n",
       "\n",
       "   DP05_0022PE  DP05_0023PE  DP05_0024PE  DP05_0025PE  DP05_0026PE  \\\n",
       "0         83.6         27.1         23.0         1696         44.6   \n",
       "1         69.9         16.9         14.0        21545         47.3   \n",
       "2         73.7         17.0         15.1        14339         48.1   \n",
       "3         85.9         30.6         24.9          833         44.8   \n",
       "4         76.2         16.0         11.8         1672         51.6   \n",
       "\n",
       "   DP05_0027PE  DP05_0029PE  DP05_0030PE  DP05_0031PE  \n",
       "0         55.4          436         54.1         45.9  \n",
       "1         52.7         4026         43.2         56.8  \n",
       "2         51.9         2878         42.9         57.1  \n",
       "3         55.2          227         37.0         63.0  \n",
       "4         48.4          249         36.1         63.9  \n",
       "\n",
       "[5 rows x 478 columns]"
      ]
     },
     "execution_count": 11,
     "metadata": {},
     "output_type": "execute_result"
    }
   ],
   "source": [
    "df_acs.info()\n",
    "df_acs.head()"
   ]
  },
  {
   "cell_type": "markdown",
   "metadata": {},
   "source": [
    "### Step 2: Process Data\n",
    "In the second step, you will modfiy the data frames that you imported in order to get them ready for whatever model you wish to create. You will need to make sure the data is correctly subset or joined, uses the correct shape and type, and has missing values resolved. This is just like kneading clay to remove air bubbles or cleaning the bike before you install new parts. "
   ]
  },
  {
   "cell_type": "markdown",
   "metadata": {},
   "source": [
    "#### Join DataFrames\n",
    "This will join two pandas DataFrames along a column they both share with an identical name and data type. For common options:<br>\n",
    "`how = \"inner\"` Keeps rows that appear in both<br>\n",
    "`how = \"outer\"` Keeps every row from both<br>\n",
    "`how = \"left\"` Keeps every row from the first, and assigns any row from the left (including duplicates).<br>"
   ]
  },
  {
   "cell_type": "code",
   "execution_count": 12,
   "metadata": {},
   "outputs": [],
   "source": [
    "df_zip = pd.merge(df_doh, df_acs, on = \"ZCTA\", how = \"inner\")"
   ]
  },
  {
   "cell_type": "markdown",
   "metadata": {},
   "source": [
    "#### Filter DataFrame\n",
    "This will remove all columns except those specified."
   ]
  },
  {
   "cell_type": "code",
   "execution_count": 13,
   "metadata": {},
   "outputs": [],
   "source": [
    "df_zip = df_zip.filter([\"E00_E99_R1000\",\n",
    "                        \"DP02_0071PE\",\n",
    "                        \"DP02_0012PE\",\n",
    "                        \"DP03_0009PE\",\n",
    "                        \"DP02_0064PE\",\n",
    "                        \"DP05_0077PE\"])"
   ]
  },
  {
   "cell_type": "markdown",
   "metadata": {},
   "source": [
    "#### Rename Columns\n",
    "This will rename selected columns except those specified."
   ]
  },
  {
   "cell_type": "code",
   "execution_count": 14,
   "metadata": {},
   "outputs": [],
   "source": [
    "df_zip = df_zip.rename(columns = {\"E00_E99_R1000\": \"Diabetes Mortality\",\n",
    "                                  \"DP02_0071PE\": \"With Disability\",\n",
    "                                  \"DP02_0012PE\": \"Over 65\",\n",
    "                                  \"DP03_0009PE\": \"Unemployment Rate\",\n",
    "                                  \"DP02_0064PE\": \"With College Degree\",\n",
    "                                  \"DP05_0077PE\": \"Non-Hispanic White\"})"
   ]
  },
  {
   "cell_type": "markdown",
   "metadata": {},
   "source": [
    "#### Drop NA Values\n",
    "This will drop all rows that have a missing value."
   ]
  },
  {
   "cell_type": "code",
   "execution_count": 15,
   "metadata": {},
   "outputs": [],
   "source": [
    "df_zip = df_zip.dropna()"
   ]
  },
  {
   "cell_type": "markdown",
   "metadata": {},
   "source": [
    "#### Verify\n",
    "At the end of each step, use \".info()\" and \".head()\" to quicky view the data."
   ]
  },
  {
   "cell_type": "code",
   "execution_count": 16,
   "metadata": {},
   "outputs": [
    {
     "name": "stdout",
     "output_type": "stream",
     "text": [
      "<class 'pandas.core.frame.DataFrame'>\n",
      "Int64Index: 954 entries, 0 to 962\n",
      "Data columns (total 6 columns):\n",
      " #   Column               Non-Null Count  Dtype  \n",
      "---  ------               --------------  -----  \n",
      " 0   Diabetes Mortality   954 non-null    float64\n",
      " 1   With Disability      954 non-null    float64\n",
      " 2   Over 65              954 non-null    float64\n",
      " 3   Unemployment Rate    954 non-null    float64\n",
      " 4   With College Degree  954 non-null    float64\n",
      " 5   Non-Hispanic White   954 non-null    float64\n",
      "dtypes: float64(6)\n",
      "memory usage: 52.2 KB\n"
     ]
    },
    {
     "data": {
      "text/html": [
       "<div>\n",
       "<style scoped>\n",
       "    .dataframe tbody tr th:only-of-type {\n",
       "        vertical-align: middle;\n",
       "    }\n",
       "\n",
       "    .dataframe tbody tr th {\n",
       "        vertical-align: top;\n",
       "    }\n",
       "\n",
       "    .dataframe thead th {\n",
       "        text-align: right;\n",
       "    }\n",
       "</style>\n",
       "<table border=\"1\" class=\"dataframe\">\n",
       "  <thead>\n",
       "    <tr style=\"text-align: right;\">\n",
       "      <th></th>\n",
       "      <th>Diabetes Mortality</th>\n",
       "      <th>With Disability</th>\n",
       "      <th>Over 65</th>\n",
       "      <th>Unemployment Rate</th>\n",
       "      <th>With College Degree</th>\n",
       "      <th>Non-Hispanic White</th>\n",
       "    </tr>\n",
       "  </thead>\n",
       "  <tbody>\n",
       "    <tr>\n",
       "      <th>0</th>\n",
       "      <td>0.00</td>\n",
       "      <td>0.0</td>\n",
       "      <td>0.0</td>\n",
       "      <td>0.0</td>\n",
       "      <td>0.0</td>\n",
       "      <td>0.0</td>\n",
       "    </tr>\n",
       "    <tr>\n",
       "      <th>1</th>\n",
       "      <td>14.93</td>\n",
       "      <td>0.0</td>\n",
       "      <td>0.0</td>\n",
       "      <td>11.1</td>\n",
       "      <td>11.1</td>\n",
       "      <td>61.2</td>\n",
       "    </tr>\n",
       "    <tr>\n",
       "      <th>3</th>\n",
       "      <td>0.00</td>\n",
       "      <td>5.8</td>\n",
       "      <td>32.1</td>\n",
       "      <td>0.0</td>\n",
       "      <td>7.0</td>\n",
       "      <td>100.0</td>\n",
       "    </tr>\n",
       "    <tr>\n",
       "      <th>4</th>\n",
       "      <td>0.00</td>\n",
       "      <td>0.0</td>\n",
       "      <td>0.0</td>\n",
       "      <td>0.0</td>\n",
       "      <td>50.7</td>\n",
       "      <td>19.3</td>\n",
       "    </tr>\n",
       "    <tr>\n",
       "      <th>5</th>\n",
       "      <td>8.13</td>\n",
       "      <td>17.9</td>\n",
       "      <td>66.7</td>\n",
       "      <td>0.0</td>\n",
       "      <td>0.0</td>\n",
       "      <td>95.1</td>\n",
       "    </tr>\n",
       "  </tbody>\n",
       "</table>\n",
       "</div>"
      ],
      "text/plain": [
       "   Diabetes Mortality  With Disability  Over 65  Unemployment Rate  \\\n",
       "0                0.00              0.0      0.0                0.0   \n",
       "1               14.93              0.0      0.0               11.1   \n",
       "3                0.00              5.8     32.1                0.0   \n",
       "4                0.00              0.0      0.0                0.0   \n",
       "5                8.13             17.9     66.7                0.0   \n",
       "\n",
       "   With College Degree  Non-Hispanic White  \n",
       "0                  0.0                 0.0  \n",
       "1                 11.1                61.2  \n",
       "3                  7.0               100.0  \n",
       "4                 50.7                19.3  \n",
       "5                  0.0                95.1  "
      ]
     },
     "execution_count": 16,
     "metadata": {},
     "output_type": "execute_result"
    }
   ],
   "source": [
    "df_zip.info()\n",
    "df_zip.head()"
   ]
  },
  {
   "cell_type": "markdown",
   "metadata": {},
   "source": [
    "### Step 3: Create Model\n",
    "In this step you will create a model that provides meaningful information about the data. This can include a statistical test, a machine learning algorithm, or a neural network. This is similar to drawing a still life or writing a poem. \n"
   ]
  },
  {
   "cell_type": "markdown",
   "metadata": {},
   "source": [
    "#### Multiple Linear Regression\n",
    "This statistical test creates a model that shows the effect of multiple quantitative predictors on a quantitative outcome using \"Ordinary Least Squares\" regression. Individual predictors can be compared using the coefficients and the p-values. The overall model can be evaluated with an adjusted R-squared and the F-statistic. "
   ]
  },
  {
   "cell_type": "code",
   "execution_count": 17,
   "metadata": {},
   "outputs": [
    {
     "data": {
      "text/html": [
       "<table class=\"simpletable\">\n",
       "<caption>OLS Regression Results</caption>\n",
       "<tr>\n",
       "  <th>Dep. Variable:</th>    <td>Diabetes Mortality</td> <th>  R-squared (uncentered):</th>      <td>   0.786</td> \n",
       "</tr>\n",
       "<tr>\n",
       "  <th>Model:</th>                    <td>OLS</td>        <th>  Adj. R-squared (uncentered):</th> <td>   0.784</td> \n",
       "</tr>\n",
       "<tr>\n",
       "  <th>Method:</th>              <td>Least Squares</td>   <th>  F-statistic:       </th>          <td>   695.1</td> \n",
       "</tr>\n",
       "<tr>\n",
       "  <th>Date:</th>              <td>Fri, 04 Sep 2020</td>  <th>  Prob (F-statistic):</th>          <td>3.08e-314</td>\n",
       "</tr>\n",
       "<tr>\n",
       "  <th>Time:</th>                  <td>19:35:43</td>      <th>  Log-Likelihood:    </th>          <td> -1282.5</td> \n",
       "</tr>\n",
       "<tr>\n",
       "  <th>No. Observations:</th>       <td>   954</td>       <th>  AIC:               </th>          <td>   2575.</td> \n",
       "</tr>\n",
       "<tr>\n",
       "  <th>Df Residuals:</th>           <td>   949</td>       <th>  BIC:               </th>          <td>   2599.</td> \n",
       "</tr>\n",
       "<tr>\n",
       "  <th>Df Model:</th>               <td>     5</td>       <th>                     </th>              <td> </td>    \n",
       "</tr>\n",
       "<tr>\n",
       "  <th>Covariance Type:</th>       <td>nonrobust</td>     <th>                     </th>              <td> </td>    \n",
       "</tr>\n",
       "</table>\n",
       "<table class=\"simpletable\">\n",
       "<tr>\n",
       "           <td></td>              <th>coef</th>     <th>std err</th>      <th>t</th>      <th>P>|t|</th>  <th>[0.025</th>    <th>0.975]</th>  \n",
       "</tr>\n",
       "<tr>\n",
       "  <th>With Disability</th>     <td>    0.0692</td> <td>    0.007</td> <td>   10.487</td> <td> 0.000</td> <td>    0.056</td> <td>    0.082</td>\n",
       "</tr>\n",
       "<tr>\n",
       "  <th>Over 65</th>             <td>    0.0503</td> <td>    0.005</td> <td>    9.807</td> <td> 0.000</td> <td>    0.040</td> <td>    0.060</td>\n",
       "</tr>\n",
       "<tr>\n",
       "  <th>Unemployment Rate</th>   <td>    0.0339</td> <td>    0.006</td> <td>    5.416</td> <td> 0.000</td> <td>    0.022</td> <td>    0.046</td>\n",
       "</tr>\n",
       "<tr>\n",
       "  <th>With College Degree</th> <td>   -0.0156</td> <td>    0.003</td> <td>   -5.075</td> <td> 0.000</td> <td>   -0.022</td> <td>   -0.010</td>\n",
       "</tr>\n",
       "<tr>\n",
       "  <th>Non-Hispanic White</th>  <td>   -0.0001</td> <td>    0.001</td> <td>   -0.100</td> <td> 0.921</td> <td>   -0.003</td> <td>    0.003</td>\n",
       "</tr>\n",
       "</table>\n",
       "<table class=\"simpletable\">\n",
       "<tr>\n",
       "  <th>Omnibus:</th>       <td>1048.769</td> <th>  Durbin-Watson:     </th>  <td>   2.073</td> \n",
       "</tr>\n",
       "<tr>\n",
       "  <th>Prob(Omnibus):</th>  <td> 0.000</td>  <th>  Jarque-Bera (JB):  </th> <td>192041.043</td>\n",
       "</tr>\n",
       "<tr>\n",
       "  <th>Skew:</th>           <td> 4.912</td>  <th>  Prob(JB):          </th>  <td>    0.00</td> \n",
       "</tr>\n",
       "<tr>\n",
       "  <th>Kurtosis:</th>       <td>71.809</td>  <th>  Cond. No.          </th>  <td>    19.7</td> \n",
       "</tr>\n",
       "</table><br/><br/>Warnings:<br/>[1] Standard Errors assume that the covariance matrix of the errors is correctly specified."
      ],
      "text/plain": [
       "<class 'statsmodels.iolib.summary.Summary'>\n",
       "\"\"\"\n",
       "                                 OLS Regression Results                                \n",
       "=======================================================================================\n",
       "Dep. Variable:     Diabetes Mortality   R-squared (uncentered):                   0.786\n",
       "Model:                            OLS   Adj. R-squared (uncentered):              0.784\n",
       "Method:                 Least Squares   F-statistic:                              695.1\n",
       "Date:                Fri, 04 Sep 2020   Prob (F-statistic):                   3.08e-314\n",
       "Time:                        19:35:43   Log-Likelihood:                         -1282.5\n",
       "No. Observations:                 954   AIC:                                      2575.\n",
       "Df Residuals:                     949   BIC:                                      2599.\n",
       "Df Model:                           5                                                  \n",
       "Covariance Type:            nonrobust                                                  \n",
       "=======================================================================================\n",
       "                          coef    std err          t      P>|t|      [0.025      0.975]\n",
       "---------------------------------------------------------------------------------------\n",
       "With Disability         0.0692      0.007     10.487      0.000       0.056       0.082\n",
       "Over 65                 0.0503      0.005      9.807      0.000       0.040       0.060\n",
       "Unemployment Rate       0.0339      0.006      5.416      0.000       0.022       0.046\n",
       "With College Degree    -0.0156      0.003     -5.075      0.000      -0.022      -0.010\n",
       "Non-Hispanic White     -0.0001      0.001     -0.100      0.921      -0.003       0.003\n",
       "==============================================================================\n",
       "Omnibus:                     1048.769   Durbin-Watson:                   2.073\n",
       "Prob(Omnibus):                  0.000   Jarque-Bera (JB):           192041.043\n",
       "Skew:                           4.912   Prob(JB):                         0.00\n",
       "Kurtosis:                      71.809   Cond. No.                         19.7\n",
       "==============================================================================\n",
       "\n",
       "Warnings:\n",
       "[1] Standard Errors assume that the covariance matrix of the errors is correctly specified.\n",
       "\"\"\""
      ]
     },
     "execution_count": 17,
     "metadata": {},
     "output_type": "execute_result"
    }
   ],
   "source": [
    "x = df_zip.drop(columns = [\"Diabetes Mortality\"])\n",
    "y = df_zip[\"Diabetes Mortality\"]\n",
    "MLR = sm.OLS(y, x).fit()\n",
    "MLR.summary()"
   ]
  },
  {
   "cell_type": "markdown",
   "metadata": {},
   "source": [
    "### Step 4: Display Results\n",
    "In this step you will create an informative visual that displays the results for others to see. This is similar to framing your finished painting or posting an image to social media with an informative caption. "
   ]
  },
  {
   "cell_type": "markdown",
   "metadata": {},
   "source": [
    "#### Scatterplot\n",
    "This displays two quantitative variables with dots corresponding to each observation. This is commonly used for displaying correlation tests. "
   ]
  },
  {
   "cell_type": "code",
   "execution_count": 19,
   "metadata": {
    "scrolled": true
   },
   "outputs": [
    {
     "data": {
      "text/plain": [
       "Text(0, 0.5, 'Diabetes Mortality')"
      ]
     },
     "execution_count": 19,
     "metadata": {},
     "output_type": "execute_result"
    },
    {
     "data": {
      "image/png": "[encoded data removed]",
      "text/plain": [
       "<Figure size 864x864 with 1 Axes>"
      ]
     },
     "metadata": {
      "needs_background": "light"
     },
     "output_type": "display_data"
    }
   ],
   "source": [
    "plt.figure(figsize = (12, 12))\n",
    "plt.scatter(x[\"With College Degree\"], y, c = \"r\")\n",
    "plt.scatter(x[\"Unemployment Rate\"], y, c = \"b\")\n",
    "plt.scatter(x[\"With Disability\"], y, c = \"g\")\n",
    "plt.legend([\"With College Degree\", \"Unemployment Rate\", \"With Disability\"])\n",
    "plt.xlabel(\"Population Percent Estimate\")\n",
    "plt.ylabel(\"Diabetes Mortality\")"
   ]
  },
  {
   "cell_type": "markdown",
   "metadata": {},
   "source": [
    "## Conclusion\n",
    "In your own words write the following:\n",
    "\n",
    "1. This topic is important because...\n",
    "\n",
    "Identify two peer reviewed scientific articles that have findings related to your first statement. Then write the following:\n",
    "\n",
    "2. Other studies have found that...\n",
    "\n",
    "Using the results of the analysis above, craft a simple conclusion with the following items:\n",
    "\n",
    "3. It was hypothesized that...\n",
    "4. Data was collected from...\n",
    "5. The study found that...\n",
    "6. This provides evidence that...\n",
    "\n",
    "After writing each of these statements, assemble them into a paragraph in the shown order. Then do the following:\n",
    "\n",
    "- Edit the paragraph to be coherent\n",
    "- Provide a simple title\n",
    "- Add references in an appropirate style\n",
    "\n",
    "Now you have an abstract!"
   ]
  },
  {
   "cell_type": "markdown",
   "metadata": {},
   "source": [
    "## Reflection\n",
    "After completing the studio session please pick one or two of the following questions to discuss with your team. \n",
    "\n",
    "1. What was something new that you learned in this module?\n",
    "2. What was something that you knew previously but heard differently in this module?\n",
    "3. What was something that understand better after this module?\n",
    "4. What was something that is confusing after this module?\n",
    "\n",
    "Each team member may select a different question, but be sure that everyone provides a refelction and responds to another's reflection."
   ]
  },
  {
   "cell_type": "code",
   "execution_count": null,
   "metadata": {},
   "outputs": [],
   "source": []
  }
 ],
 "metadata": {
  "kernelspec": {
   "display_name": "Python 3",
   "language": "python",
   "name": "python3"
  },
  "language_info": {
   "codemirror_mode": {
    "name": "ipython",
    "version": 3
   },
   "file_extension": ".py",
   "mimetype": "text/x-python",
   "name": "python",
   "nbconvert_exporter": "python",
   "pygments_lexer": "ipython3",
   "version": "3.6.10"
  }
 },
 "nbformat": 4,
 "nbformat_minor": 4
}
