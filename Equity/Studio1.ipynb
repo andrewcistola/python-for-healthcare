{
 "cells": [
  {
   "cell_type": "markdown",
   "metadata": {},
   "source": [
    "![](_fig/S1_header.jpg)"
   ]
  },
  {
   "cell_type": "markdown",
   "metadata": {},
   "source": [
    "In this studio you will learn the basics of what computer code is and how best to think about learning to write code in the Python Programming Language. You will also learn how to test whether two quantitative variables have a statistically significant association.<br>\n",
    "<br>\n",
    "Each *Python for Healthcare* studio has six sections:\n",
    "1. **Objectives**\n",
    "2. **Readings and Videos**\n",
    "3. **Discussion**\n",
    "4. **Analysis**\n",
    "5. **Conclusion**\n",
    "6. **Reflection**\n",
    "\n",
    "Refer to the video below to learn how to use the *Python for Healthcare* studios.\n",
    "\n",
    "[\"How to use Py4HC Notebooks\"](https://www.youtube.com/watch?v=5fzBGgflXk8&t=4s)  "
   ]
  },
  {
   "cell_type": "markdown",
   "metadata": {},
   "source": [
    "---"
   ]
  },
  {
   "cell_type": "markdown",
   "metadata": {},
   "source": [
    "## Objectives\n",
    "By the end of this course, our goal is for you to learn how to start using the Python Programming Language in health science applications. This includes:\n",
    "\n",
    "- Understanding how computer code allows humans to talk to computers\n",
    "- Learning the concrete process for using computer code and Python\n",
    "- Becoming familiar with the process of writing in Python\n",
    "- Identify healthcare questions that can be answered with open source data science tools\n",
    "- Experience how Python can be used to answer questions related to healthcare\n",
    "- Increase awareness of how Python can be used in a future career in healthcare\n",
    "\n",
    "Keep these goals in mind as you go through the studios and the course. If you dont understand every part, that is ok. Use these resources to get familair with the concepts.\n"
   ]
  },
  {
   "cell_type": "markdown",
   "metadata": {},
   "source": [
    "## Videos\n",
    "Before starting the **Discussion**, watch the following:\n",
    "\n",
    "[\"How to Talk to Computers: Part 1\"](https://www.youtube.com/watch?v=5fzBGgflXk8&t=4s)   \n",
    "[\"How I Would Learn Data Science (If I Had to Start Over)\"](https://www.youtube.com/watch?v=4OZip0cgOho)"
   ]
  },
  {
   "cell_type": "markdown",
   "metadata": {},
   "source": [
    "## Discussion\n",
    "After completing the readings and videos above, answer the following questions with your team. \n",
    "\n",
    "1. If you have ever learned a second langauge, what was that experience like? What parts of learning a new langauge were difficult and easy for you?\n",
    "2. After hearing different ways and roadmaps to learning Data Science, what parts of the process do you think will be easier or harder for you?\n",
    "3. Data Science is a broad discipline and can apply to many settings. What are some things you would specifically like to learn for your career or interests?\n",
    "\n",
    "Be sure that everyone answers each question and responds to at least one answer from another team member. "
   ]
  },
  {
   "cell_type": "markdown",
   "metadata": {},
   "source": [
    "## Analysis\n",
    "In each module, you will complete a live data analysis with your team. The goal of the studio is to give you hands on experience writing Python code and using Data Science tools that are important for health science.<br>\n",
    "<br>\n",
    "In each **Analysis** section, there are four steps:\n",
    "1. Setup Workspace\n",
    "2. Process Data\n",
    "3. Create Model\n",
    "4. Display Results\n",
    "\n",
    "Within each step of the **Analysis** a header will provide general details about what the lines of code below are used to do.<br>\n",
    "<br>\n",
    "As you complete the **Analysis** component of the studio, follow this video below to understand each of the steps in the code.\n",
    "\n",
    "[\"Notebook 1: Simple Association\"](https://www.youtube.com/watch?v=5fzBGgflXk8&t=4s)"
   ]
  },
  {
   "cell_type": "markdown",
   "metadata": {},
   "source": [
    "### Step 1: Setup Workspace\n",
    "In the first step, you will assemble libraries, set your working directory, and import data. You will do this same process before every analysis. This is just like setting up your brushes, canvas, and easel for paiting or putting your tools, parts, and bike in the repair stand."
   ]
  },
  {
   "cell_type": "markdown",
   "metadata": {},
   "source": [
    "![](_fig/E1_1_1.jpg)"
   ]
  },
  {
   "cell_type": "markdown",
   "metadata": {},
   "source": [
    "![](_fig/E1_1_2.jpg)"
   ]
  },
  {
   "cell_type": "markdown",
   "metadata": {},
   "source": [
    "#### Import Standard Libraries\n",
    "These libraries are imported for every data science related Python script."
   ]
  },
  {
   "cell_type": "code",
   "execution_count": null,
   "metadata": {},
   "outputs": [],
   "source": []
  },
  {
   "cell_type": "markdown",
   "metadata": {},
   "source": [
    "#### Import Specific Libraries\n",
    "These libraries are used for specific components of the script."
   ]
  },
  {
   "cell_type": "code",
   "execution_count": 2,
   "metadata": {},
   "outputs": [],
   "source": []
  },
  {
   "cell_type": "markdown",
   "metadata": {},
   "source": [
    "#### Set Working Directory\n",
    "This is the location of the folder on your device that holds all of your files. Once you set this, any file can be accessed by the relative location. "
   ]
  },
  {
   "cell_type": "code",
   "execution_count": null,
   "metadata": {},
   "outputs": [],
   "source": []
  },
  {
   "cell_type": "markdown",
   "metadata": {},
   "source": [
    "#### Import Data\n",
    "In order to use data, you will often import from a `\".csv\"` file located in your directory and save it with a useful name. After importing, you can use `.info()` and `.head()` to quicky view the data. "
   ]
  },
  {
   "cell_type": "code",
   "execution_count": null,
   "metadata": {},
   "outputs": [],
   "source": []
  },
  {
   "cell_type": "code",
   "execution_count": null,
   "metadata": {
    "scrolled": false
   },
   "outputs": [],
   "source": []
  },
  {
   "cell_type": "code",
   "execution_count": 6,
   "metadata": {},
   "outputs": [],
   "source": []
  },
  {
   "cell_type": "code",
   "execution_count": null,
   "metadata": {
    "scrolled": false
   },
   "outputs": [],
   "source": []
  },
  {
   "cell_type": "markdown",
   "metadata": {},
   "source": [
    "### Step 2: Process Data\n",
    "In the second step, you will modfiy the data frames that you imported in order to get them ready for whatever model you wish to create. You will need to make sure the data is correctly subset or joined, uses the correct shape and type, and has missing values resolved. This is just like kneading clay to remove air bubbles or cleaning the bike before you install new parts. "
   ]
  },
  {
   "cell_type": "markdown",
   "metadata": {},
   "source": [
    "![](_fig/E1_2_1.jpg)"
   ]
  },
  {
   "cell_type": "markdown",
   "metadata": {},
   "source": [
    "#### Join DataFrames\n",
    "This will join two pandas DataFrames along a column they both share with an identical name and data type. For common options:<br>\n",
    "`how = \"inner\"` Keeps rows that appear in both<br>\n",
    "`how = \"outer\"` Keeps every row from both<br>\n",
    "`how = \"left\"` Keeps every row from the first, and assigns any row from the left (including duplicates).<br>"
   ]
  },
  {
   "cell_type": "code",
   "execution_count": 8,
   "metadata": {},
   "outputs": [],
   "source": []
  },
  {
   "cell_type": "markdown",
   "metadata": {},
   "source": [
    "#### Filter DataFrame\n",
    "This will remove all columns except those specified."
   ]
  },
  {
   "cell_type": "code",
   "execution_count": 9,
   "metadata": {},
   "outputs": [],
   "source": []
  },
  {
   "cell_type": "markdown",
   "metadata": {},
   "source": [
    "#### Drop NA Values\n",
    "This will drop all rows that have a missing value."
   ]
  },
  {
   "cell_type": "code",
   "execution_count": 10,
   "metadata": {},
   "outputs": [],
   "source": []
  },
  {
   "cell_type": "markdown",
   "metadata": {},
   "source": [
    "#### Verify\n",
    "At the end of each step, use \".info()\" and \".head()\" to quicky view the data."
   ]
  },
  {
   "cell_type": "code",
   "execution_count": null,
   "metadata": {},
   "outputs": [],
   "source": []
  },
  {
   "cell_type": "markdown",
   "metadata": {},
   "source": [
    "### Step 3: Create Model\n",
    "In this step you will create a model that provides meaningful information about the data. This can include a statistical test, a machine learning algorithm, or a neural network. This is similar to drawing a still life or writing a poem. \n"
   ]
  },
  {
   "cell_type": "markdown",
   "metadata": {},
   "source": [
    "![](_fig/E1_3_1.jpg)"
   ]
  },
  {
   "cell_type": "markdown",
   "metadata": {},
   "source": [
    "#### Pearson's Correlation\n",
    "This statistical test indicates the similarity between two quantitivate variables that are normally distributed. You will interpret the similarity by evaluating the R-squared and the p-value."
   ]
  },
  {
   "cell_type": "code",
   "execution_count": 12,
   "metadata": {},
   "outputs": [],
   "source": []
  },
  {
   "cell_type": "code",
   "execution_count": 13,
   "metadata": {},
   "outputs": [],
   "source": []
  },
  {
   "cell_type": "code",
   "execution_count": null,
   "metadata": {
    "scrolled": true
   },
   "outputs": [],
   "source": []
  },
  {
   "cell_type": "markdown",
   "metadata": {},
   "source": [
    "### Step 4: Display Results\n",
    "In this step you will create an informative visual that displays the results for others to see. This is similar to framing your finished painting or posting an image to social media with an informative caption. "
   ]
  },
  {
   "cell_type": "markdown",
   "metadata": {},
   "source": [
    "![](_fig/E1_4_1.jpg)"
   ]
  },
  {
   "cell_type": "markdown",
   "metadata": {},
   "source": [
    "#### Scatterplot\n",
    "This displays two quantitative variables with dots corresponding to each observation. This is commonly used for displaying correlation tests. "
   ]
  },
  {
   "cell_type": "code",
   "execution_count": null,
   "metadata": {
    "scrolled": true
   },
   "outputs": [],
   "source": []
  },
  {
   "cell_type": "markdown",
   "metadata": {},
   "source": [
    "### Improvise\n",
    "After following the analysis above, now you will do your own analysis with another health outcome of your choice. Using the code you created, follow the steps to conduct an analysis with a different health outcome of interest to you."
   ]
  },
  {
   "cell_type": "markdown",
   "metadata": {},
   "source": [
    "![](_fig/DOH_labels.jpg)"
   ]
  },
  {
   "cell_type": "markdown",
   "metadata": {},
   "source": [
    "In the cell below identify one of the variables in the list of health outcomes above and insert it into the code cell in place `(put your outcome vairable here)`."
   ]
  },
  {
   "cell_type": "markdown",
   "metadata": {},
   "source": [
    "#### Filter DataFrame\n",
    "This will remove all columns except those specified."
   ]
  },
  {
   "cell_type": "code",
   "execution_count": null,
   "metadata": {},
   "outputs": [],
   "source": [
    "df_zip = df_zip.filter([\"DP02_0071PE\", \"(put your outcome vairable here)\"])"
   ]
  },
  {
   "cell_type": "markdown",
   "metadata": {},
   "source": [
    "#### Drop NA Values\n",
    "This will drop all rows that have a missing value."
   ]
  },
  {
   "cell_type": "code",
   "execution_count": null,
   "metadata": {},
   "outputs": [],
   "source": []
  },
  {
   "cell_type": "markdown",
   "metadata": {},
   "source": [
    "#### Verify\n",
    "At the end of each step, use \".info()\" and \".head()\" to quicky view the data."
   ]
  },
  {
   "cell_type": "code",
   "execution_count": null,
   "metadata": {},
   "outputs": [],
   "source": []
  },
  {
   "cell_type": "markdown",
   "metadata": {},
   "source": [
    "#### Pearson's Correlation\n",
    "This statistical test indicates the similarity between two quantitivate variables that are normally distributed. You will interpret the similarity by evaluating the R-squared and the p-value."
   ]
  },
  {
   "cell_type": "code",
   "execution_count": null,
   "metadata": {},
   "outputs": [],
   "source": []
  },
  {
   "cell_type": "code",
   "execution_count": null,
   "metadata": {},
   "outputs": [],
   "source": []
  },
  {
   "cell_type": "code",
   "execution_count": null,
   "metadata": {},
   "outputs": [],
   "source": []
  },
  {
   "cell_type": "markdown",
   "metadata": {},
   "source": [
    "#### Scatterplot\n",
    "This displays two quantitative variables with dots corresponding to each observation. This is commonly used for displaying correlation tests. "
   ]
  },
  {
   "cell_type": "code",
   "execution_count": null,
   "metadata": {},
   "outputs": [],
   "source": []
  },
  {
   "cell_type": "markdown",
   "metadata": {},
   "source": [
    "## Conclusion\n",
    "After following the analysis and conducting your own, follow these steps to document your findings on the health outcome you selected.<br> \n",
    "<br>\n",
    "In your own words write the following:\n",
    "\n",
    "1. This topic is important because...\n",
    "\n",
    "Identify two peer reviewed scientific articles that have findings related to your first statement. Then write the following:\n",
    "\n",
    "2. Other studies have found that...\n",
    "\n",
    "Using the results of the analysis above, craft a simple conclusion with the following items:\n",
    "\n",
    "3. It was hypothesized that...\n",
    "4. Data was collected from...\n",
    "5. The study found that...\n",
    "6. This provides evidence that...\n",
    "\n",
    "After writing each of these statements, assemble them into a paragraph in the shown order. Then do the following:\n",
    "\n",
    "- Edit the paragraph to be coherent\n",
    "- Provide a simple title\n",
    "- Add references in an appropirate style\n",
    "\n",
    "Now you have an abstract!"
   ]
  },
  {
   "cell_type": "markdown",
   "metadata": {},
   "source": [
    "## Reflection\n",
    "After completing the studio session please pick one or two of the following questions to discuss with your team. \n",
    "\n",
    "1. What was something new that you learned in this module?\n",
    "2. What was something that you knew previously but heard differently in this module?\n",
    "3. What was something that understand better after this module?\n",
    "4. What was something that is confusing after this module?\n",
    "\n",
    "Each team member may select a different question, but be sure that everyone provides a refelction and responds to another's reflection."
   ]
  },
  {
   "cell_type": "markdown",
   "metadata": {},
   "source": [
    "---\n",
    "After you have completed the studio, print the page as a PDF and save it on your local computer. "
   ]
  }
 ],
 "metadata": {
  "kernelspec": {
   "display_name": "Python 3",
   "language": "python",
   "name": "python3"
  },
  "language_info": {
   "codemirror_mode": {
    "name": "ipython",
    "version": 3
   },
   "file_extension": ".py",
   "mimetype": "text/x-python",
   "name": "python",
   "nbconvert_exporter": "python",
   "pygments_lexer": "ipython3",
   "version": "3.8.3"
  }
 },
 "nbformat": 4,
 "nbformat_minor": 4
}
