{
 "cells": [
  {
   "cell_type": "markdown",
   "metadata": {},
   "source": [
    "![](_fig/labeled.jpg)"
   ]
  },
  {
   "cell_type": "markdown",
   "metadata": {},
   "source": [
    "# Studio 1: How to Talk to Computers in Python\n",
    "In this studio you will learn the basics of what computer code is and how best to think about learning to write code in the Python Programming Language. You will also learn how to test whether two quantitative variables have a statistically significant association.<br>\n",
    "<br>\n",
    "Each *Python for Healthcare* studio has six sections:\n",
    "1. **Objectives**\n",
    "2. **Readings and Videos**\n",
    "3. **Discussion**\n",
    "4. **Analysis**\n",
    "5. **Conclusion**\n",
    "6. **Reflection**\n",
    "\n",
    "Refer to the video below to learn how to use the *Python for Healthcare* studios.\n",
    "\n",
    "[\"How to use Py4HC Notebooks\"](https://www.youtube.com/watch?v=5fzBGgflXk8&t=4s)  "
   ]
  },
  {
   "cell_type": "markdown",
   "metadata": {},
   "source": [
    "---"
   ]
  },
  {
   "cell_type": "markdown",
   "metadata": {},
   "source": [
    "## Objectives\n",
    "By the end of this course, our goal is for you to learn how to start using the Python Programming Language in health science applications. This includes:\n",
    "\n",
    "- Understanding how computer code allows humans to talk to computers\n",
    "- Learning the concrete process for using computer code and Python\n",
    "- Becoming familiar with the process of writing in Python\n",
    "- Identify healthcare questions that can be answered with open source data science tools\n",
    "- Experience how Python can be used to answer questions related to healthcare\n",
    "- Increase awareness of how Python can be used in a future career in healthcare\n",
    "\n",
    "Keep these goals in mind as you go through the studios and the course. If you dont understand every part, that is ok. Use these resources to get familair with the concepts.\n"
   ]
  },
  {
   "cell_type": "markdown",
   "metadata": {},
   "source": [
    "## Videos\n",
    "Before starting the **Discussion**, watch the following:\n",
    "\n",
    "[\"How to Talk to Computers: Part 1\"](https://www.youtube.com/watch?v=5fzBGgflXk8&t=4s)   \n",
    "[\"How I Would Learn Data Science (If I Had to Start Over)\"](https://www.youtube.com/watch?v=4OZip0cgOho)"
   ]
  },
  {
   "cell_type": "markdown",
   "metadata": {},
   "source": [
    "## Discussion\n",
    "After completing the readings and videos above, answer the following questions with your team. \n",
    "\n",
    "1. If you have ever learned a second langauge, what was that experience like? What parts of learning a new langauge were difficult and easy for you?\n",
    "2. After hearing different ways and roadmaps to learning Data Science, what parts of the process do you think will be easier or harder for you?\n",
    "3. Data Science is a broad discipline and can apply to many settings. What are some things you would specifically like to learn for your career or interests?\n",
    "\n",
    "Be sure that everyone answers each question and responds to at least one answer from another team member. "
   ]
  },
  {
   "cell_type": "markdown",
   "metadata": {},
   "source": [
    "## Analysis\n",
    "In each module, you will complete a live data analysis with your team. The goal of the studio is to give you hands on experience writing Python code and using Data Science tools that are important for health science.<br>\n",
    "<br>\n",
    "In each **Analysis** section, there are four steps:\n",
    "1. Setup Workspace\n",
    "2. Process Data\n",
    "3. Create Model\n",
    "4. Display Results\n",
    "\n",
    "Within each step of the **Analysis** a header will provide general details about what the lines of code below are used to do.<br>\n",
    "<br>\n",
    "As you complete the **Analysis** component of the studio, follow this video below to understand each of the steps in the code.\n",
    "\n",
    "[\"Notebook 1: Simple Association\"](https://www.youtube.com/watch?v=5fzBGgflXk8&t=4s)"
   ]
  },
  {
   "cell_type": "markdown",
   "metadata": {},
   "source": [
    "### Step 1: Setup Workspace\n",
    "In the first step, you will assemble libraries, set your working directory, and import data. You will do this same process before every analysis. This is just like setting up your brushes, canvas, and easel for paiting or putting your tools, parts, and bike in the repair stand."
   ]
  },
  {
   "cell_type": "markdown",
   "metadata": {},
   "source": [
    "#### Import Standard Libraries\n",
    "These libraries are imported for every data science related Python script."
   ]
  },
  {
   "cell_type": "code",
   "execution_count": null,
   "metadata": {},
   "outputs": [],
   "source": [
    "import os\n",
    "import pandas as pd\n",
    "import numpy as np"
   ]
  },
  {
   "cell_type": "markdown",
   "metadata": {},
   "source": [
    "#### Import Specific Libraries\n",
    "These libraries are used for specific components of the script."
   ]
  },
  {
   "cell_type": "code",
   "execution_count": 2,
   "metadata": {},
   "outputs": [],
   "source": [
    "import scipy.stats as st\n",
    "import matplotlib.pyplot as plt"
   ]
  },
  {
   "cell_type": "markdown",
   "metadata": {},
   "source": [
    "#### Set Working Directory\n",
    "This is the location of the folder on your device that holds all of your files. Once you set this, any file can be accessed by the relative location. "
   ]
  },
  {
   "cell_type": "code",
   "execution_count": null,
   "metadata": {},
   "outputs": [],
   "source": [
    "os.chdir(\"/home/drewc/allocativ/py4hc\")"
   ]
  },
  {
   "cell_type": "markdown",
   "metadata": {},
   "source": [
    "#### Import Data\n",
    "In order to use data, you will often import from a `\".csv\"` file located in your directory and save it with a useful name. After importing, you can use `.info()` and `.head()` to quicky view the data. "
   ]
  },
  {
   "cell_type": "code",
   "execution_count": 4,
   "metadata": {},
   "outputs": [],
   "source": [
    "df_doh = pd.read_csv(\"_data/doh.csv\")"
   ]
  },
  {
   "cell_type": "code",
   "execution_count": 5,
   "metadata": {
    "scrolled": false
   },
   "outputs": [
    {
     "name": "stdout",
     "output_type": "stream",
     "text": [
      "<class 'pandas.core.frame.DataFrame'>\n",
      "RangeIndex: 970 entries, 0 to 969\n",
      "Data columns (total 19 columns):\n",
      " #   Column          Non-Null Count  Dtype  \n",
      "---  ------          --------------  -----  \n",
      " 0   ZCTA            970 non-null    object \n",
      " 1   PERCENT_TOTAL   970 non-null    float64\n",
      " 2   POPULATION      970 non-null    int64  \n",
      " 3   A00_B99_R1000   970 non-null    float64\n",
      " 4   Benign_R1000    970 non-null    float64\n",
      " 5   D50_D64_R1000   970 non-null    float64\n",
      " 6   E00_E99_R1000   970 non-null    float64\n",
      " 7   G00_G99_R1000   970 non-null    float64\n",
      " 8   J00_J99_R1000   970 non-null    float64\n",
      " 9   K00_K99_R1000   970 non-null    float64\n",
      " 10  N00_N99_R1000   970 non-null    float64\n",
      " 11  O00_O07_R1000   970 non-null    float64\n",
      " 12  O10_O99_R1000   970 non-null    float64\n",
      " 13  P00_P99_R1000   970 non-null    float64\n",
      " 14  Q00_Q99_R1000   970 non-null    float64\n",
      " 15  Abnormal_R1000  970 non-null    float64\n",
      " 16  Residual_R1000  970 non-null    float64\n",
      " 17  V01_Y89_R1000   970 non-null    float64\n",
      " 18  SIDS_R1000      970 non-null    float64\n",
      "dtypes: float64(17), int64(1), object(1)\n",
      "memory usage: 144.1+ KB\n"
     ]
    },
    {
     "data": {
      "text/html": [
       "<div>\n",
       "<style scoped>\n",
       "    .dataframe tbody tr th:only-of-type {\n",
       "        vertical-align: middle;\n",
       "    }\n",
       "\n",
       "    .dataframe tbody tr th {\n",
       "        vertical-align: top;\n",
       "    }\n",
       "\n",
       "    .dataframe thead th {\n",
       "        text-align: right;\n",
       "    }\n",
       "</style>\n",
       "<table border=\"1\" class=\"dataframe\">\n",
       "  <thead>\n",
       "    <tr style=\"text-align: right;\">\n",
       "      <th></th>\n",
       "      <th>ZCTA</th>\n",
       "      <th>PERCENT_TOTAL</th>\n",
       "      <th>POPULATION</th>\n",
       "      <th>A00_B99_R1000</th>\n",
       "      <th>Benign_R1000</th>\n",
       "      <th>D50_D64_R1000</th>\n",
       "      <th>E00_E99_R1000</th>\n",
       "      <th>G00_G99_R1000</th>\n",
       "      <th>J00_J99_R1000</th>\n",
       "      <th>K00_K99_R1000</th>\n",
       "      <th>N00_N99_R1000</th>\n",
       "      <th>O00_O07_R1000</th>\n",
       "      <th>O10_O99_R1000</th>\n",
       "      <th>P00_P99_R1000</th>\n",
       "      <th>Q00_Q99_R1000</th>\n",
       "      <th>Abnormal_R1000</th>\n",
       "      <th>Residual_R1000</th>\n",
       "      <th>V01_Y89_R1000</th>\n",
       "      <th>SIDS_R1000</th>\n",
       "    </tr>\n",
       "  </thead>\n",
       "  <tbody>\n",
       "    <tr>\n",
       "      <th>0</th>\n",
       "      <td>ZCTA32830</td>\n",
       "      <td>2.430000e-07</td>\n",
       "      <td>5</td>\n",
       "      <td>0.00</td>\n",
       "      <td>0.0</td>\n",
       "      <td>0.0</td>\n",
       "      <td>0.00</td>\n",
       "      <td>0.0</td>\n",
       "      <td>0.00</td>\n",
       "      <td>200.00</td>\n",
       "      <td>0.0</td>\n",
       "      <td>0.0</td>\n",
       "      <td>0.0</td>\n",
       "      <td>0.0</td>\n",
       "      <td>0.0</td>\n",
       "      <td>0.00</td>\n",
       "      <td>200.00</td>\n",
       "      <td>0.00</td>\n",
       "      <td>0.0</td>\n",
       "    </tr>\n",
       "    <tr>\n",
       "      <th>1</th>\n",
       "      <td>ZCTA34141</td>\n",
       "      <td>3.255000e-06</td>\n",
       "      <td>67</td>\n",
       "      <td>0.00</td>\n",
       "      <td>0.0</td>\n",
       "      <td>0.0</td>\n",
       "      <td>14.93</td>\n",
       "      <td>0.0</td>\n",
       "      <td>0.00</td>\n",
       "      <td>29.85</td>\n",
       "      <td>0.0</td>\n",
       "      <td>0.0</td>\n",
       "      <td>0.0</td>\n",
       "      <td>0.0</td>\n",
       "      <td>0.0</td>\n",
       "      <td>29.85</td>\n",
       "      <td>14.93</td>\n",
       "      <td>179.10</td>\n",
       "      <td>0.0</td>\n",
       "    </tr>\n",
       "    <tr>\n",
       "      <th>2</th>\n",
       "      <td>ZCTA32356</td>\n",
       "      <td>4.420000e-06</td>\n",
       "      <td>91</td>\n",
       "      <td>0.00</td>\n",
       "      <td>0.0</td>\n",
       "      <td>0.0</td>\n",
       "      <td>10.99</td>\n",
       "      <td>0.0</td>\n",
       "      <td>0.00</td>\n",
       "      <td>0.00</td>\n",
       "      <td>0.0</td>\n",
       "      <td>0.0</td>\n",
       "      <td>0.0</td>\n",
       "      <td>0.0</td>\n",
       "      <td>0.0</td>\n",
       "      <td>0.00</td>\n",
       "      <td>0.00</td>\n",
       "      <td>0.00</td>\n",
       "      <td>0.0</td>\n",
       "    </tr>\n",
       "    <tr>\n",
       "      <th>3</th>\n",
       "      <td>ZCTA34679</td>\n",
       "      <td>5.003000e-06</td>\n",
       "      <td>103</td>\n",
       "      <td>0.00</td>\n",
       "      <td>0.0</td>\n",
       "      <td>0.0</td>\n",
       "      <td>0.00</td>\n",
       "      <td>0.0</td>\n",
       "      <td>29.13</td>\n",
       "      <td>0.00</td>\n",
       "      <td>0.0</td>\n",
       "      <td>0.0</td>\n",
       "      <td>0.0</td>\n",
       "      <td>0.0</td>\n",
       "      <td>0.0</td>\n",
       "      <td>0.00</td>\n",
       "      <td>9.71</td>\n",
       "      <td>19.42</td>\n",
       "      <td>0.0</td>\n",
       "    </tr>\n",
       "    <tr>\n",
       "      <th>4</th>\n",
       "      <td>ZCTA33122</td>\n",
       "      <td>5.295000e-06</td>\n",
       "      <td>109</td>\n",
       "      <td>9.17</td>\n",
       "      <td>0.0</td>\n",
       "      <td>0.0</td>\n",
       "      <td>0.00</td>\n",
       "      <td>0.0</td>\n",
       "      <td>0.00</td>\n",
       "      <td>0.00</td>\n",
       "      <td>0.0</td>\n",
       "      <td>0.0</td>\n",
       "      <td>0.0</td>\n",
       "      <td>0.0</td>\n",
       "      <td>0.0</td>\n",
       "      <td>0.00</td>\n",
       "      <td>9.17</td>\n",
       "      <td>18.35</td>\n",
       "      <td>0.0</td>\n",
       "    </tr>\n",
       "  </tbody>\n",
       "</table>\n",
       "</div>"
      ],
      "text/plain": [
       "        ZCTA  PERCENT_TOTAL  POPULATION  A00_B99_R1000  Benign_R1000  \\\n",
       "0  ZCTA32830   2.430000e-07           5           0.00           0.0   \n",
       "1  ZCTA34141   3.255000e-06          67           0.00           0.0   \n",
       "2  ZCTA32356   4.420000e-06          91           0.00           0.0   \n",
       "3  ZCTA34679   5.003000e-06         103           0.00           0.0   \n",
       "4  ZCTA33122   5.295000e-06         109           9.17           0.0   \n",
       "\n",
       "   D50_D64_R1000  E00_E99_R1000  G00_G99_R1000  J00_J99_R1000  K00_K99_R1000  \\\n",
       "0            0.0           0.00            0.0           0.00         200.00   \n",
       "1            0.0          14.93            0.0           0.00          29.85   \n",
       "2            0.0          10.99            0.0           0.00           0.00   \n",
       "3            0.0           0.00            0.0          29.13           0.00   \n",
       "4            0.0           0.00            0.0           0.00           0.00   \n",
       "\n",
       "   N00_N99_R1000  O00_O07_R1000  O10_O99_R1000  P00_P99_R1000  Q00_Q99_R1000  \\\n",
       "0            0.0            0.0            0.0            0.0            0.0   \n",
       "1            0.0            0.0            0.0            0.0            0.0   \n",
       "2            0.0            0.0            0.0            0.0            0.0   \n",
       "3            0.0            0.0            0.0            0.0            0.0   \n",
       "4            0.0            0.0            0.0            0.0            0.0   \n",
       "\n",
       "   Abnormal_R1000  Residual_R1000  V01_Y89_R1000  SIDS_R1000  \n",
       "0            0.00          200.00           0.00         0.0  \n",
       "1           29.85           14.93         179.10         0.0  \n",
       "2            0.00            0.00           0.00         0.0  \n",
       "3            0.00            9.71          19.42         0.0  \n",
       "4            0.00            9.17          18.35         0.0  "
      ]
     },
     "execution_count": 5,
     "metadata": {},
     "output_type": "execute_result"
    }
   ],
   "source": [
    "df_doh.info()\n",
    "df_doh.head()"
   ]
  },
  {
   "cell_type": "code",
   "execution_count": 6,
   "metadata": {},
   "outputs": [],
   "source": [
    "df_acs = pd.read_csv(\"_data/acs.csv\")"
   ]
  },
  {
   "cell_type": "code",
   "execution_count": 7,
   "metadata": {
    "scrolled": false
   },
   "outputs": [
    {
     "name": "stdout",
     "output_type": "stream",
     "text": [
      "<class 'pandas.core.frame.DataFrame'>\n",
      "RangeIndex: 32829 entries, 0 to 32828\n",
      "Columns: 478 entries, FIPS to DP05_0031PE\n",
      "dtypes: float64(427), int64(48), object(3)\n",
      "memory usage: 119.7+ MB\n"
     ]
    },
    {
     "data": {
      "text/html": [
       "<div>\n",
       "<style scoped>\n",
       "    .dataframe tbody tr th:only-of-type {\n",
       "        vertical-align: middle;\n",
       "    }\n",
       "\n",
       "    .dataframe tbody tr th {\n",
       "        vertical-align: top;\n",
       "    }\n",
       "\n",
       "    .dataframe thead th {\n",
       "        text-align: right;\n",
       "    }\n",
       "</style>\n",
       "<table border=\"1\" class=\"dataframe\">\n",
       "  <thead>\n",
       "    <tr style=\"text-align: right;\">\n",
       "      <th></th>\n",
       "      <th>FIPS</th>\n",
       "      <th>ZCTA</th>\n",
       "      <th>ST</th>\n",
       "      <th>DP02_0001PE</th>\n",
       "      <th>DP02_0002PE</th>\n",
       "      <th>DP02_0003PE</th>\n",
       "      <th>DP02_0004PE</th>\n",
       "      <th>DP02_0005PE</th>\n",
       "      <th>DP02_0006PE</th>\n",
       "      <th>DP02_0007PE</th>\n",
       "      <th>...</th>\n",
       "      <th>DP05_0021PE</th>\n",
       "      <th>DP05_0022PE</th>\n",
       "      <th>DP05_0023PE</th>\n",
       "      <th>DP05_0024PE</th>\n",
       "      <th>DP05_0025PE</th>\n",
       "      <th>DP05_0026PE</th>\n",
       "      <th>DP05_0027PE</th>\n",
       "      <th>DP05_0029PE</th>\n",
       "      <th>DP05_0030PE</th>\n",
       "      <th>DP05_0031PE</th>\n",
       "    </tr>\n",
       "  </thead>\n",
       "  <tbody>\n",
       "    <tr>\n",
       "      <th>0</th>\n",
       "      <td>FIPS01001</td>\n",
       "      <td>ZCTA36003</td>\n",
       "      <td>AL</td>\n",
       "      <td>913</td>\n",
       "      <td>59.9</td>\n",
       "      <td>12.8</td>\n",
       "      <td>44.4</td>\n",
       "      <td>11.3</td>\n",
       "      <td>2.4</td>\n",
       "      <td>1.0</td>\n",
       "      <td>...</td>\n",
       "      <td>89.4</td>\n",
       "      <td>83.6</td>\n",
       "      <td>27.1</td>\n",
       "      <td>23.0</td>\n",
       "      <td>1696</td>\n",
       "      <td>44.6</td>\n",
       "      <td>55.4</td>\n",
       "      <td>436</td>\n",
       "      <td>54.1</td>\n",
       "      <td>45.9</td>\n",
       "    </tr>\n",
       "    <tr>\n",
       "      <th>1</th>\n",
       "      <td>FIPS01001</td>\n",
       "      <td>ZCTA36067</td>\n",
       "      <td>AL</td>\n",
       "      <td>10351</td>\n",
       "      <td>72.7</td>\n",
       "      <td>30.8</td>\n",
       "      <td>55.7</td>\n",
       "      <td>22.5</td>\n",
       "      <td>3.4</td>\n",
       "      <td>1.2</td>\n",
       "      <td>...</td>\n",
       "      <td>75.0</td>\n",
       "      <td>69.9</td>\n",
       "      <td>16.9</td>\n",
       "      <td>14.0</td>\n",
       "      <td>21545</td>\n",
       "      <td>47.3</td>\n",
       "      <td>52.7</td>\n",
       "      <td>4026</td>\n",
       "      <td>43.2</td>\n",
       "      <td>56.8</td>\n",
       "    </tr>\n",
       "    <tr>\n",
       "      <th>2</th>\n",
       "      <td>FIPS01001</td>\n",
       "      <td>ZCTA36066</td>\n",
       "      <td>AL</td>\n",
       "      <td>7950</td>\n",
       "      <td>68.3</td>\n",
       "      <td>34.9</td>\n",
       "      <td>53.7</td>\n",
       "      <td>26.5</td>\n",
       "      <td>4.7</td>\n",
       "      <td>2.7</td>\n",
       "      <td>...</td>\n",
       "      <td>75.1</td>\n",
       "      <td>73.7</td>\n",
       "      <td>17.0</td>\n",
       "      <td>15.1</td>\n",
       "      <td>14339</td>\n",
       "      <td>48.1</td>\n",
       "      <td>51.9</td>\n",
       "      <td>2878</td>\n",
       "      <td>42.9</td>\n",
       "      <td>57.1</td>\n",
       "    </tr>\n",
       "    <tr>\n",
       "      <th>3</th>\n",
       "      <td>FIPS01001</td>\n",
       "      <td>ZCTA36006</td>\n",
       "      <td>AL</td>\n",
       "      <td>423</td>\n",
       "      <td>58.4</td>\n",
       "      <td>15.1</td>\n",
       "      <td>45.6</td>\n",
       "      <td>12.3</td>\n",
       "      <td>4.3</td>\n",
       "      <td>0.0</td>\n",
       "      <td>...</td>\n",
       "      <td>91.2</td>\n",
       "      <td>85.9</td>\n",
       "      <td>30.6</td>\n",
       "      <td>24.9</td>\n",
       "      <td>833</td>\n",
       "      <td>44.8</td>\n",
       "      <td>55.2</td>\n",
       "      <td>227</td>\n",
       "      <td>37.0</td>\n",
       "      <td>63.0</td>\n",
       "    </tr>\n",
       "    <tr>\n",
       "      <th>4</th>\n",
       "      <td>FIPS01001</td>\n",
       "      <td>ZCTA36051</td>\n",
       "      <td>AL</td>\n",
       "      <td>832</td>\n",
       "      <td>74.8</td>\n",
       "      <td>30.5</td>\n",
       "      <td>58.7</td>\n",
       "      <td>18.4</td>\n",
       "      <td>2.2</td>\n",
       "      <td>0.0</td>\n",
       "      <td>...</td>\n",
       "      <td>79.4</td>\n",
       "      <td>76.2</td>\n",
       "      <td>16.0</td>\n",
       "      <td>11.8</td>\n",
       "      <td>1672</td>\n",
       "      <td>51.6</td>\n",
       "      <td>48.4</td>\n",
       "      <td>249</td>\n",
       "      <td>36.1</td>\n",
       "      <td>63.9</td>\n",
       "    </tr>\n",
       "  </tbody>\n",
       "</table>\n",
       "<p>5 rows × 478 columns</p>\n",
       "</div>"
      ],
      "text/plain": [
       "        FIPS       ZCTA  ST  DP02_0001PE  DP02_0002PE  DP02_0003PE  \\\n",
       "0  FIPS01001  ZCTA36003  AL          913         59.9         12.8   \n",
       "1  FIPS01001  ZCTA36067  AL        10351         72.7         30.8   \n",
       "2  FIPS01001  ZCTA36066  AL         7950         68.3         34.9   \n",
       "3  FIPS01001  ZCTA36006  AL          423         58.4         15.1   \n",
       "4  FIPS01001  ZCTA36051  AL          832         74.8         30.5   \n",
       "\n",
       "   DP02_0004PE  DP02_0005PE  DP02_0006PE  DP02_0007PE  ...  DP05_0021PE  \\\n",
       "0         44.4         11.3          2.4          1.0  ...         89.4   \n",
       "1         55.7         22.5          3.4          1.2  ...         75.0   \n",
       "2         53.7         26.5          4.7          2.7  ...         75.1   \n",
       "3         45.6         12.3          4.3          0.0  ...         91.2   \n",
       "4         58.7         18.4          2.2          0.0  ...         79.4   \n",
       "\n",
       "   DP05_0022PE  DP05_0023PE  DP05_0024PE  DP05_0025PE  DP05_0026PE  \\\n",
       "0         83.6         27.1         23.0         1696         44.6   \n",
       "1         69.9         16.9         14.0        21545         47.3   \n",
       "2         73.7         17.0         15.1        14339         48.1   \n",
       "3         85.9         30.6         24.9          833         44.8   \n",
       "4         76.2         16.0         11.8         1672         51.6   \n",
       "\n",
       "   DP05_0027PE  DP05_0029PE  DP05_0030PE  DP05_0031PE  \n",
       "0         55.4          436         54.1         45.9  \n",
       "1         52.7         4026         43.2         56.8  \n",
       "2         51.9         2878         42.9         57.1  \n",
       "3         55.2          227         37.0         63.0  \n",
       "4         48.4          249         36.1         63.9  \n",
       "\n",
       "[5 rows x 478 columns]"
      ]
     },
     "execution_count": 7,
     "metadata": {},
     "output_type": "execute_result"
    }
   ],
   "source": [
    "df_acs.info()\n",
    "df_acs.head()"
   ]
  },
  {
   "cell_type": "markdown",
   "metadata": {},
   "source": [
    "### Step 2: Process Data\n",
    "In the second step, you will modfiy the data frames that you imported in order to get them ready for whatever model you wish to create. You will need to make sure the data is correctly subset or joined, uses the correct shape and type, and has missing values resolved. This is just like kneading clay to remove air bubbles or cleaning the bike before you install new parts. "
   ]
  },
  {
   "cell_type": "markdown",
   "metadata": {},
   "source": [
    "#### Join DataFrames\n",
    "This will join two pandas DataFrames along a column they both share with an identical name and data type. For common options:<br>\n",
    "`how = \"inner\"` Keeps rows that appear in both<br>\n",
    "`how = \"outer\"` Keeps every row from both<br>\n",
    "`how = \"left\"` Keeps every row from the first, and assigns any row from the left (including duplicates).<br>"
   ]
  },
  {
   "cell_type": "code",
   "execution_count": 8,
   "metadata": {},
   "outputs": [],
   "source": [
    "df_zip = pd.merge(df_doh, df_acs, on = \"ZCTA\", how = \"inner\")"
   ]
  },
  {
   "cell_type": "markdown",
   "metadata": {},
   "source": [
    "#### Filter DataFrame\n",
    "This will remove all columns except those specified."
   ]
  },
  {
   "cell_type": "code",
   "execution_count": 9,
   "metadata": {},
   "outputs": [],
   "source": [
    "df_zip = df_zip.filter([\"DP02_0071PE\", \"E00_E99_R1000\"])"
   ]
  },
  {
   "cell_type": "markdown",
   "metadata": {},
   "source": [
    "#### Drop NA Values\n",
    "This will drop all rows that have a missing value."
   ]
  },
  {
   "cell_type": "code",
   "execution_count": 10,
   "metadata": {},
   "outputs": [],
   "source": [
    "df_zip = df_zip.dropna()"
   ]
  },
  {
   "cell_type": "markdown",
   "metadata": {},
   "source": [
    "#### Verify\n",
    "At the end of each step, use \".info()\" and \".head()\" to quicky view the data."
   ]
  },
  {
   "cell_type": "code",
   "execution_count": 11,
   "metadata": {},
   "outputs": [
    {
     "name": "stdout",
     "output_type": "stream",
     "text": [
      "<class 'pandas.core.frame.DataFrame'>\n",
      "Int64Index: 959 entries, 0 to 962\n",
      "Data columns (total 2 columns):\n",
      " #   Column         Non-Null Count  Dtype  \n",
      "---  ------         --------------  -----  \n",
      " 0   DP02_0071PE    959 non-null    float64\n",
      " 1   E00_E99_R1000  959 non-null    float64\n",
      "dtypes: float64(2)\n",
      "memory usage: 22.5 KB\n"
     ]
    },
    {
     "data": {
      "text/html": [
       "<div>\n",
       "<style scoped>\n",
       "    .dataframe tbody tr th:only-of-type {\n",
       "        vertical-align: middle;\n",
       "    }\n",
       "\n",
       "    .dataframe tbody tr th {\n",
       "        vertical-align: top;\n",
       "    }\n",
       "\n",
       "    .dataframe thead th {\n",
       "        text-align: right;\n",
       "    }\n",
       "</style>\n",
       "<table border=\"1\" class=\"dataframe\">\n",
       "  <thead>\n",
       "    <tr style=\"text-align: right;\">\n",
       "      <th></th>\n",
       "      <th>DP02_0071PE</th>\n",
       "      <th>E00_E99_R1000</th>\n",
       "    </tr>\n",
       "  </thead>\n",
       "  <tbody>\n",
       "    <tr>\n",
       "      <th>0</th>\n",
       "      <td>0.0</td>\n",
       "      <td>0.00</td>\n",
       "    </tr>\n",
       "    <tr>\n",
       "      <th>1</th>\n",
       "      <td>0.0</td>\n",
       "      <td>14.93</td>\n",
       "    </tr>\n",
       "    <tr>\n",
       "      <th>2</th>\n",
       "      <td>50.5</td>\n",
       "      <td>10.99</td>\n",
       "    </tr>\n",
       "    <tr>\n",
       "      <th>3</th>\n",
       "      <td>5.8</td>\n",
       "      <td>0.00</td>\n",
       "    </tr>\n",
       "    <tr>\n",
       "      <th>4</th>\n",
       "      <td>0.0</td>\n",
       "      <td>0.00</td>\n",
       "    </tr>\n",
       "  </tbody>\n",
       "</table>\n",
       "</div>"
      ],
      "text/plain": [
       "   DP02_0071PE  E00_E99_R1000\n",
       "0          0.0           0.00\n",
       "1          0.0          14.93\n",
       "2         50.5          10.99\n",
       "3          5.8           0.00\n",
       "4          0.0           0.00"
      ]
     },
     "execution_count": 11,
     "metadata": {},
     "output_type": "execute_result"
    }
   ],
   "source": [
    "df_zip.info()\n",
    "df_zip.head()"
   ]
  },
  {
   "cell_type": "markdown",
   "metadata": {},
   "source": [
    "### Step 3: Create Model\n",
    "In this step you will create a model that provides meaningful information about the data. This can include a statistical test, a machine learning algorithm, or a neural network. This is similar to drawing a still life or writing a poem. \n"
   ]
  },
  {
   "cell_type": "markdown",
   "metadata": {},
   "source": [
    "#### Pearson's Correlation\n",
    "This statistical test indicates the similarity between two quantitivate variables that are normally distributed. You will interpret the similarity by evaluating the R-squared and the p-value."
   ]
  },
  {
   "cell_type": "code",
   "execution_count": 12,
   "metadata": {},
   "outputs": [],
   "source": [
    "x = df_zip[\"DP02_0071PE\"]\n",
    "y = df_zip[\"E00_E99_R1000\"]"
   ]
  },
  {
   "cell_type": "code",
   "execution_count": 13,
   "metadata": {},
   "outputs": [],
   "source": [
    "result = st.pearsonr(x,y)"
   ]
  },
  {
   "cell_type": "code",
   "execution_count": 14,
   "metadata": {
    "scrolled": true
   },
   "outputs": [
    {
     "name": "stdout",
     "output_type": "stream",
     "text": [
      "Rsq = 0.5329337712627179 P-Value = 1.795157620021357e-71\n"
     ]
    }
   ],
   "source": [
    "print(\"Rsq =\", (result[0]), \"P-Value =\", (result[1]))"
   ]
  },
  {
   "cell_type": "markdown",
   "metadata": {},
   "source": [
    "### Step 4: Display Results\n",
    "In this step you will create an informative visual that displays the results for others to see. This is similar to framing your finished painting or posting an image to social media with an informative caption. "
   ]
  },
  {
   "cell_type": "markdown",
   "metadata": {},
   "source": [
    "#### Scatterplot\n",
    "This displays two quantitative variables with dots corresponding to each observation. This is commonly used for displaying correlation tests. "
   ]
  },
  {
   "cell_type": "code",
   "execution_count": 15,
   "metadata": {
    "scrolled": true
   },
   "outputs": [
    {
     "data": {
      "text/plain": [
       "Text(0, 0.5, 'Diabetes Mortality')"
      ]
     },
     "execution_count": 15,
     "metadata": {},
     "output_type": "execute_result"
    },
    {
     "data": {
      "image/png": "[encoded data removed]",
      "text/plain": [
       "<Figure size 432x288 with 1 Axes>"
      ]
     },
     "metadata": {
      "needs_background": "light"
     },
     "output_type": "display_data"
    }
   ],
   "source": [
    "plt.scatter(x, y, c = \"b\")\n",
    "plt.xlabel(\"Population Non-Hospanic White\")\n",
    "plt.ylabel(\"Diabetes Mortality\")"
   ]
  },
  {
   "cell_type": "markdown",
   "metadata": {},
   "source": [
    "## Conclusion\n",
    "In your own words write the following:\n",
    "\n",
    "1. This topic is important because...\n",
    "\n",
    "Identify two peer reviewed scientific articles that have findings related to your first statement. Then write the following:\n",
    "\n",
    "2. Other studies have found that...\n",
    "\n",
    "Using the results of the analysis above, craft a simple conclusion with the following items:\n",
    "\n",
    "3. It was hypothesized that...\n",
    "4. Data was collected from...\n",
    "5. The study found that...\n",
    "6. This provides evidence that...\n",
    "\n",
    "After writing each of these statements, assemble them into a paragraph in the shown order. Then do the following:\n",
    "\n",
    "- Edit the paragraph to be coherent\n",
    "- Provide a simple title\n",
    "- Add references in an appropirate style\n",
    "\n",
    "Now you have an abstract!"
   ]
  },
  {
   "cell_type": "markdown",
   "metadata": {},
   "source": [
    "## Reflection\n",
    "After completing the studio session please pick one or two of the following questions to discuss with your team. \n",
    "\n",
    "1. What was something new that you learned in this module?\n",
    "2. What was something that you knew previously but heard differently in this module?\n",
    "3. What was something that understand better after this module?\n",
    "4. What was something that is confusing after this module?\n",
    "\n",
    "Each team member may select a different question, but be sure that everyone provides a refelction and responds to another's reflection."
   ]
  },
  {
   "cell_type": "code",
   "execution_count": null,
   "metadata": {},
   "outputs": [],
   "source": []
  }
 ],
 "metadata": {
  "kernelspec": {
   "display_name": "Python 3",
   "language": "python",
   "name": "python3"
  },
  "language_info": {
   "codemirror_mode": {
    "name": "ipython",
    "version": 3
   },
   "file_extension": ".py",
   "mimetype": "text/x-python",
   "name": "python",
   "nbconvert_exporter": "python",
   "pygments_lexer": "ipython3",
   "version": "3.6.10"
  }
 },
 "nbformat": 4,
 "nbformat_minor": 4
}
