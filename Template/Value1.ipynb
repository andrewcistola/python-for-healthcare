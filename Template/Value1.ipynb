{
 "cells": [
  {
   "cell_type": "markdown",
   "metadata": {},
   "source": [
    "![](_fig/labeled.jpg)"
   ]
  },
  {
   "cell_type": "markdown",
   "metadata": {},
   "source": [
    "![](attachment:_fig/labeled.jpg)"
   ]
  },
  {
   "cell_type": "markdown",
   "metadata": {},
   "source": [
    "# PyStudio 1: Learning the Basics"
   ]
  },
  {
   "cell_type": "markdown",
   "metadata": {},
   "source": [
    "## Finding Value: Predicting Performance on Value Based Payments from CMS Hospital Compare Data"
   ]
  },
  {
   "cell_type": "markdown",
   "metadata": {},
   "source": [
    "### Setup Workspace"
   ]
  },
  {
   "cell_type": "code",
   "execution_count": 2,
   "metadata": {},
   "outputs": [],
   "source": [
    "import os\n",
    "import pandas as pd\n",
    "import numpy as np"
   ]
  },
  {
   "cell_type": "code",
   "execution_count": 3,
   "metadata": {},
   "outputs": [],
   "source": [
    "import scipy.stats as st\n",
    "import matplotlib.pyplot as plt"
   ]
  },
  {
   "cell_type": "code",
   "execution_count": 4,
   "metadata": {},
   "outputs": [],
   "source": [
    "os.chdir(\"/home/drewc/allocativ/py4hc\")"
   ]
  },
  {
   "cell_type": "code",
   "execution_count": 5,
   "metadata": {},
   "outputs": [],
   "source": [
    "df_cms = pd.read_csv(\"_data/cms.csv\")"
   ]
  },
  {
   "cell_type": "code",
   "execution_count": 6,
   "metadata": {
    "scrolled": true
   },
   "outputs": [
    {
     "name": "stdout",
     "output_type": "stream",
     "text": [
      "<class 'pandas.core.frame.DataFrame'>\n",
      "RangeIndex: 2274 entries, 0 to 2273\n",
      "Columns: 178 entries, Facility ID to Track Electronic Labs\n",
      "dtypes: float64(152), int64(25), object(1)\n",
      "memory usage: 3.1+ MB\n"
     ]
    },
    {
     "data": {
      "text/html": [
       "<div>\n",
       "<style scoped>\n",
       "    .dataframe tbody tr th:only-of-type {\n",
       "        vertical-align: middle;\n",
       "    }\n",
       "\n",
       "    .dataframe tbody tr th {\n",
       "        vertical-align: top;\n",
       "    }\n",
       "\n",
       "    .dataframe thead th {\n",
       "        text-align: right;\n",
       "    }\n",
       "</style>\n",
       "<table border=\"1\" class=\"dataframe\">\n",
       "  <thead>\n",
       "    <tr style=\"text-align: right;\">\n",
       "      <th></th>\n",
       "      <th>Facility ID</th>\n",
       "      <th>FIPS</th>\n",
       "      <th>2018 VBP Adjustment Factor</th>\n",
       "      <th>2019 VBP Adjustment Factor</th>\n",
       "      <th>2020 VBP Adjustment Factor</th>\n",
       "      <th>READM-30-AMI-HRRP</th>\n",
       "      <th>READM-30-CABG-HRRP</th>\n",
       "      <th>READM-30-COPD-HRRP</th>\n",
       "      <th>READM-30-HF-HRRP</th>\n",
       "      <th>READM-30-HIP-KNEE-HRRP</th>\n",
       "      <th>...</th>\n",
       "      <th>Efficient use of medical imaging national comparison Above Average</th>\n",
       "      <th>Mortality national comparison Below Average</th>\n",
       "      <th>Safety of care national comparison Below Average</th>\n",
       "      <th>Readmission national comparison Below Average</th>\n",
       "      <th>Patient experience national comparison Below Average</th>\n",
       "      <th>Effectiveness of care national comparison Below Average</th>\n",
       "      <th>Timeliness of care national comparison Below Average</th>\n",
       "      <th>Efficient use of medical imaging national comparison Below Average</th>\n",
       "      <th>Receive Electronic Labs</th>\n",
       "      <th>Track Electronic Labs</th>\n",
       "    </tr>\n",
       "  </thead>\n",
       "  <tbody>\n",
       "    <tr>\n",
       "      <th>0</th>\n",
       "      <td>100001</td>\n",
       "      <td>FIPS12031</td>\n",
       "      <td>0.997517</td>\n",
       "      <td>1.002304</td>\n",
       "      <td>0.997413</td>\n",
       "      <td>1.0685</td>\n",
       "      <td>0.9213</td>\n",
       "      <td>1.0591</td>\n",
       "      <td>1.0757</td>\n",
       "      <td>1.1851</td>\n",
       "      <td>...</td>\n",
       "      <td>0</td>\n",
       "      <td>0</td>\n",
       "      <td>0</td>\n",
       "      <td>1</td>\n",
       "      <td>0</td>\n",
       "      <td>1</td>\n",
       "      <td>1</td>\n",
       "      <td>1</td>\n",
       "      <td>1</td>\n",
       "      <td>1</td>\n",
       "    </tr>\n",
       "    <tr>\n",
       "      <th>1</th>\n",
       "      <td>100002</td>\n",
       "      <td>FIPS12099</td>\n",
       "      <td>0.995494</td>\n",
       "      <td>0.996971</td>\n",
       "      <td>0.991655</td>\n",
       "      <td>0.9468</td>\n",
       "      <td>0.8829</td>\n",
       "      <td>1.0612</td>\n",
       "      <td>1.0224</td>\n",
       "      <td>0.7993</td>\n",
       "      <td>...</td>\n",
       "      <td>0</td>\n",
       "      <td>0</td>\n",
       "      <td>0</td>\n",
       "      <td>1</td>\n",
       "      <td>1</td>\n",
       "      <td>0</td>\n",
       "      <td>0</td>\n",
       "      <td>0</td>\n",
       "      <td>1</td>\n",
       "      <td>1</td>\n",
       "    </tr>\n",
       "    <tr>\n",
       "      <th>2</th>\n",
       "      <td>100006</td>\n",
       "      <td>FIPS12095</td>\n",
       "      <td>0.995280</td>\n",
       "      <td>0.996284</td>\n",
       "      <td>0.994979</td>\n",
       "      <td>0.9460</td>\n",
       "      <td>1.0253</td>\n",
       "      <td>1.0125</td>\n",
       "      <td>1.0152</td>\n",
       "      <td>1.2449</td>\n",
       "      <td>...</td>\n",
       "      <td>1</td>\n",
       "      <td>0</td>\n",
       "      <td>0</td>\n",
       "      <td>1</td>\n",
       "      <td>0</td>\n",
       "      <td>0</td>\n",
       "      <td>0</td>\n",
       "      <td>0</td>\n",
       "      <td>1</td>\n",
       "      <td>1</td>\n",
       "    </tr>\n",
       "    <tr>\n",
       "      <th>3</th>\n",
       "      <td>100007</td>\n",
       "      <td>FIPS12095</td>\n",
       "      <td>1.005295</td>\n",
       "      <td>1.007495</td>\n",
       "      <td>1.007056</td>\n",
       "      <td>1.0062</td>\n",
       "      <td>1.3440</td>\n",
       "      <td>0.9761</td>\n",
       "      <td>1.0807</td>\n",
       "      <td>1.1310</td>\n",
       "      <td>...</td>\n",
       "      <td>1</td>\n",
       "      <td>0</td>\n",
       "      <td>1</td>\n",
       "      <td>1</td>\n",
       "      <td>0</td>\n",
       "      <td>0</td>\n",
       "      <td>1</td>\n",
       "      <td>0</td>\n",
       "      <td>1</td>\n",
       "      <td>1</td>\n",
       "    </tr>\n",
       "    <tr>\n",
       "      <th>4</th>\n",
       "      <td>100008</td>\n",
       "      <td>FIPS12086</td>\n",
       "      <td>0.995473</td>\n",
       "      <td>0.993890</td>\n",
       "      <td>0.996734</td>\n",
       "      <td>0.9415</td>\n",
       "      <td>0.9824</td>\n",
       "      <td>1.0537</td>\n",
       "      <td>0.9574</td>\n",
       "      <td>0.8431</td>\n",
       "      <td>...</td>\n",
       "      <td>1</td>\n",
       "      <td>0</td>\n",
       "      <td>1</td>\n",
       "      <td>1</td>\n",
       "      <td>0</td>\n",
       "      <td>0</td>\n",
       "      <td>1</td>\n",
       "      <td>0</td>\n",
       "      <td>1</td>\n",
       "      <td>1</td>\n",
       "    </tr>\n",
       "  </tbody>\n",
       "</table>\n",
       "<p>5 rows × 178 columns</p>\n",
       "</div>"
      ],
      "text/plain": [
       "   Facility ID       FIPS  2018 VBP Adjustment Factor  \\\n",
       "0       100001  FIPS12031                    0.997517   \n",
       "1       100002  FIPS12099                    0.995494   \n",
       "2       100006  FIPS12095                    0.995280   \n",
       "3       100007  FIPS12095                    1.005295   \n",
       "4       100008  FIPS12086                    0.995473   \n",
       "\n",
       "   2019 VBP Adjustment Factor  2020 VBP Adjustment Factor  READM-30-AMI-HRRP  \\\n",
       "0                    1.002304                    0.997413             1.0685   \n",
       "1                    0.996971                    0.991655             0.9468   \n",
       "2                    0.996284                    0.994979             0.9460   \n",
       "3                    1.007495                    1.007056             1.0062   \n",
       "4                    0.993890                    0.996734             0.9415   \n",
       "\n",
       "   READM-30-CABG-HRRP  READM-30-COPD-HRRP  READM-30-HF-HRRP  \\\n",
       "0              0.9213              1.0591            1.0757   \n",
       "1              0.8829              1.0612            1.0224   \n",
       "2              1.0253              1.0125            1.0152   \n",
       "3              1.3440              0.9761            1.0807   \n",
       "4              0.9824              1.0537            0.9574   \n",
       "\n",
       "   READM-30-HIP-KNEE-HRRP  ...  \\\n",
       "0                  1.1851  ...   \n",
       "1                  0.7993  ...   \n",
       "2                  1.2449  ...   \n",
       "3                  1.1310  ...   \n",
       "4                  0.8431  ...   \n",
       "\n",
       "   Efficient use of medical imaging national comparison Above Average  \\\n",
       "0                                                  0                    \n",
       "1                                                  0                    \n",
       "2                                                  1                    \n",
       "3                                                  1                    \n",
       "4                                                  1                    \n",
       "\n",
       "   Mortality national comparison Below Average  \\\n",
       "0                                            0   \n",
       "1                                            0   \n",
       "2                                            0   \n",
       "3                                            0   \n",
       "4                                            0   \n",
       "\n",
       "   Safety of care national comparison Below Average  \\\n",
       "0                                                 0   \n",
       "1                                                 0   \n",
       "2                                                 0   \n",
       "3                                                 1   \n",
       "4                                                 1   \n",
       "\n",
       "   Readmission national comparison Below Average  \\\n",
       "0                                              1   \n",
       "1                                              1   \n",
       "2                                              1   \n",
       "3                                              1   \n",
       "4                                              1   \n",
       "\n",
       "   Patient experience national comparison Below Average  \\\n",
       "0                                                  0      \n",
       "1                                                  1      \n",
       "2                                                  0      \n",
       "3                                                  0      \n",
       "4                                                  0      \n",
       "\n",
       "   Effectiveness of care national comparison Below Average  \\\n",
       "0                                                  1         \n",
       "1                                                  0         \n",
       "2                                                  0         \n",
       "3                                                  0         \n",
       "4                                                  0         \n",
       "\n",
       "   Timeliness of care national comparison Below Average  \\\n",
       "0                                                  1      \n",
       "1                                                  0      \n",
       "2                                                  0      \n",
       "3                                                  1      \n",
       "4                                                  1      \n",
       "\n",
       "   Efficient use of medical imaging national comparison Below Average  \\\n",
       "0                                                  1                    \n",
       "1                                                  0                    \n",
       "2                                                  0                    \n",
       "3                                                  0                    \n",
       "4                                                  0                    \n",
       "\n",
       "   Receive Electronic Labs  Track Electronic Labs  \n",
       "0                        1                      1  \n",
       "1                        1                      1  \n",
       "2                        1                      1  \n",
       "3                        1                      1  \n",
       "4                        1                      1  \n",
       "\n",
       "[5 rows x 178 columns]"
      ]
     },
     "execution_count": 6,
     "metadata": {},
     "output_type": "execute_result"
    }
   ],
   "source": [
    "df_cms.info()\n",
    "df_cms.head()"
   ]
  },
  {
   "cell_type": "markdown",
   "metadata": {},
   "source": [
    "### Process Data"
   ]
  },
  {
   "cell_type": "code",
   "execution_count": 7,
   "metadata": {},
   "outputs": [],
   "source": [
    "df_cms = df_cms.filter([\n",
    "    \"Rate of readmission hospital wide\", \n",
    "    \"2020 VBP Adjustment Factor\"])"
   ]
  },
  {
   "cell_type": "code",
   "execution_count": 8,
   "metadata": {},
   "outputs": [],
   "source": [
    "df_cms = df_cms.dropna()"
   ]
  },
  {
   "cell_type": "code",
   "execution_count": 9,
   "metadata": {},
   "outputs": [
    {
     "name": "stdout",
     "output_type": "stream",
     "text": [
      "<class 'pandas.core.frame.DataFrame'>\n",
      "Int64Index: 2195 entries, 0 to 2273\n",
      "Data columns (total 2 columns):\n",
      " #   Column                             Non-Null Count  Dtype  \n",
      "---  ------                             --------------  -----  \n",
      " 0   Rate of readmission hospital wide  2195 non-null   float64\n",
      " 1   2020 VBP Adjustment Factor         2195 non-null   float64\n",
      "dtypes: float64(2)\n",
      "memory usage: 51.4 KB\n"
     ]
    },
    {
     "data": {
      "text/html": [
       "<div>\n",
       "<style scoped>\n",
       "    .dataframe tbody tr th:only-of-type {\n",
       "        vertical-align: middle;\n",
       "    }\n",
       "\n",
       "    .dataframe tbody tr th {\n",
       "        vertical-align: top;\n",
       "    }\n",
       "\n",
       "    .dataframe thead th {\n",
       "        text-align: right;\n",
       "    }\n",
       "</style>\n",
       "<table border=\"1\" class=\"dataframe\">\n",
       "  <thead>\n",
       "    <tr style=\"text-align: right;\">\n",
       "      <th></th>\n",
       "      <th>Rate of readmission hospital wide</th>\n",
       "      <th>2020 VBP Adjustment Factor</th>\n",
       "    </tr>\n",
       "  </thead>\n",
       "  <tbody>\n",
       "    <tr>\n",
       "      <th>0</th>\n",
       "      <td>16.0</td>\n",
       "      <td>0.997413</td>\n",
       "    </tr>\n",
       "    <tr>\n",
       "      <th>1</th>\n",
       "      <td>15.8</td>\n",
       "      <td>0.991655</td>\n",
       "    </tr>\n",
       "    <tr>\n",
       "      <th>2</th>\n",
       "      <td>15.4</td>\n",
       "      <td>0.994979</td>\n",
       "    </tr>\n",
       "    <tr>\n",
       "      <th>3</th>\n",
       "      <td>16.1</td>\n",
       "      <td>1.007056</td>\n",
       "    </tr>\n",
       "    <tr>\n",
       "      <th>4</th>\n",
       "      <td>15.3</td>\n",
       "      <td>0.996734</td>\n",
       "    </tr>\n",
       "  </tbody>\n",
       "</table>\n",
       "</div>"
      ],
      "text/plain": [
       "   Rate of readmission hospital wide  2020 VBP Adjustment Factor\n",
       "0                               16.0                    0.997413\n",
       "1                               15.8                    0.991655\n",
       "2                               15.4                    0.994979\n",
       "3                               16.1                    1.007056\n",
       "4                               15.3                    0.996734"
      ]
     },
     "execution_count": 9,
     "metadata": {},
     "output_type": "execute_result"
    }
   ],
   "source": [
    "df_cms.info()\n",
    "df_cms.head()"
   ]
  },
  {
   "cell_type": "markdown",
   "metadata": {},
   "source": [
    "### Create Model"
   ]
  },
  {
   "cell_type": "code",
   "execution_count": 10,
   "metadata": {},
   "outputs": [],
   "source": [
    "x = df_cms[\"Rate of readmission hospital wide\"]\n",
    "y = df_cms[\"2020 VBP Adjustment Factor\"]"
   ]
  },
  {
   "cell_type": "code",
   "execution_count": 11,
   "metadata": {},
   "outputs": [],
   "source": [
    "result = st.pearsonr(x,y)"
   ]
  },
  {
   "cell_type": "code",
   "execution_count": 12,
   "metadata": {},
   "outputs": [
    {
     "name": "stdout",
     "output_type": "stream",
     "text": [
      "Rsq = -0.22652028179111994 P-Value = 6.1486251433553576e-27\n"
     ]
    }
   ],
   "source": [
    "print(\"Rsq =\", (result[0]), \"P-Value =\", (result[1]))"
   ]
  },
  {
   "cell_type": "markdown",
   "metadata": {},
   "source": [
    "### Display Results"
   ]
  },
  {
   "cell_type": "code",
   "execution_count": 13,
   "metadata": {},
   "outputs": [
    {
     "data": {
      "text/plain": [
       "Text(0, 0.5, '2020 VBP Adjustment Factor')"
      ]
     },
     "execution_count": 13,
     "metadata": {},
     "output_type": "execute_result"
    },
    {
     "data": {
      "image/png": "[encoded data removed]",
      "text/plain": [
       "<Figure size 432x288 with 1 Axes>"
      ]
     },
     "metadata": {
      "needs_background": "light"
     },
     "output_type": "display_data"
    }
   ],
   "source": [
    "plt.scatter(x, y, c = \"b\")\n",
    "plt.xlabel(\"Rate of readmission hospital wide\")\n",
    "plt.ylabel(\"2020 VBP Adjustment Factor\")"
   ]
  }
 ],
 "metadata": {
  "kernelspec": {
   "display_name": "Python 3",
   "language": "python",
   "name": "python3"
  },
  "language_info": {
   "codemirror_mode": {
    "name": "ipython",
    "version": 3
   },
   "file_extension": ".py",
   "mimetype": "text/x-python",
   "name": "python",
   "nbconvert_exporter": "python",
   "pygments_lexer": "ipython3",
   "version": "3.6.10"
  }
 },
 "nbformat": 4,
 "nbformat_minor": 4
}
